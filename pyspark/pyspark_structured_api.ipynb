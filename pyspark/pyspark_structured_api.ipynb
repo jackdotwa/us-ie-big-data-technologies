{
  "nbformat": 4,
  "nbformat_minor": 0,
  "metadata": {
    "colab": {
      "name": "pyspark_structured_api.ipynb",
      "provenance": [],
      "collapsed_sections": [],
      "toc_visible": true
    },
    "kernelspec": {
      "name": "python3",
      "display_name": "Python 3"
    }
  },
  "cells": [
    {
      "cell_type": "markdown",
      "metadata": {
        "id": "nRD4AWvXv3bd"
      },
      "source": [
        "### Welcome to the Colab Spark Tutorial.\n",
        "\n",
        "We will be using Spark a few times in this course, and the _colab_ environment provides the compute (for 12 hours at a time) we need, along with this wonderful web-based notebook.\n",
        "\n",
        "Today we will be configuring PySpark and exploring the SparkSQL features in relation to the Spark API\n",
        "\n",
        "Source material includes [[1](https://opensource.com/article/19/3/apache-spark-and-dataframes-tutorial)]\n",
        "\n",
        "Sections:\n",
        "\n",
        " 1. Configuring your _colab_\n",
        " 2. Using PySpark\n"
      ]
    },
    {
      "cell_type": "markdown",
      "metadata": {
        "id": "dObl4yHR4aRm"
      },
      "source": [
        "Firstly, we need to configure the _colab_ instance"
      ]
    },
    {
      "cell_type": "code",
      "metadata": {
        "id": "Oy0a51RqrDlC",
        "outputId": "6be178a5-7882-481d-8801-953851b82556",
        "colab": {
          "base_uri": "https://localhost:8080/",
          "height": 104
        }
      },
      "source": [
        "!lsb_release -a"
      ],
      "execution_count": 1,
      "outputs": [
        {
          "output_type": "stream",
          "text": [
            "No LSB modules are available.\n",
            "Distributor ID:\tUbuntu\n",
            "Description:\tUbuntu 18.04.5 LTS\n",
            "Release:\t18.04\n",
            "Codename:\tbionic\n"
          ],
          "name": "stdout"
        }
      ]
    },
    {
      "cell_type": "code",
      "metadata": {
        "id": "OX6iQmbtrIvl",
        "outputId": "92325667-56c3-4dd1-fe58-e84b9ae85ff2",
        "colab": {
          "base_uri": "https://localhost:8080/",
          "height": 521
        }
      },
      "source": [
        "!apt-get update"
      ],
      "execution_count": 2,
      "outputs": [
        {
          "output_type": "stream",
          "text": [
            "Get:1 http://security.ubuntu.com/ubuntu bionic-security InRelease [88.7 kB]\n",
            "Ign:2 https://developer.download.nvidia.com/compute/cuda/repos/ubuntu1804/x86_64  InRelease\n",
            "Get:3 https://cloud.r-project.org/bin/linux/ubuntu bionic-cran40/ InRelease [3,626 B]\n",
            "Get:4 http://ppa.launchpad.net/c2d4u.team/c2d4u4.0+/ubuntu bionic InRelease [15.9 kB]\n",
            "Ign:5 https://developer.download.nvidia.com/compute/machine-learning/repos/ubuntu1804/x86_64  InRelease\n",
            "Get:6 https://developer.download.nvidia.com/compute/cuda/repos/ubuntu1804/x86_64  Release [697 B]\n",
            "Get:7 https://developer.download.nvidia.com/compute/machine-learning/repos/ubuntu1804/x86_64  Release [564 B]\n",
            "Get:8 https://developer.download.nvidia.com/compute/cuda/repos/ubuntu1804/x86_64  Release.gpg [836 B]\n",
            "Get:9 https://developer.download.nvidia.com/compute/machine-learning/repos/ubuntu1804/x86_64  Release.gpg [833 B]\n",
            "Hit:10 http://archive.ubuntu.com/ubuntu bionic InRelease\n",
            "Get:11 http://archive.ubuntu.com/ubuntu bionic-updates InRelease [88.7 kB]\n",
            "Get:12 http://security.ubuntu.com/ubuntu bionic-security/main amd64 Packages [1,748 kB]\n",
            "Hit:13 http://ppa.launchpad.net/graphics-drivers/ppa/ubuntu bionic InRelease\n",
            "Get:14 http://security.ubuntu.com/ubuntu bionic-security/restricted amd64 Packages [213 kB]\n",
            "Get:15 http://security.ubuntu.com/ubuntu bionic-security/multiverse amd64 Packages [15.4 kB]\n",
            "Get:16 http://security.ubuntu.com/ubuntu bionic-security/universe amd64 Packages [1,353 kB]\n",
            "Get:17 http://archive.ubuntu.com/ubuntu bionic-backports InRelease [74.6 kB]\n",
            "Get:18 https://cloud.r-project.org/bin/linux/ubuntu bionic-cran40/ Packages [39.3 kB]\n",
            "Ign:19 https://developer.download.nvidia.com/compute/cuda/repos/ubuntu1804/x86_64  Packages\n",
            "Get:19 https://developer.download.nvidia.com/compute/cuda/repos/ubuntu1804/x86_64  Packages [370 kB]\n",
            "Get:20 https://developer.download.nvidia.com/compute/machine-learning/repos/ubuntu1804/x86_64  Packages [57.0 kB]\n",
            "Get:21 http://ppa.launchpad.net/c2d4u.team/c2d4u4.0+/ubuntu bionic/main Sources [1,685 kB]\n",
            "Get:22 http://archive.ubuntu.com/ubuntu bionic-updates/universe amd64 Packages [2,115 kB]\n",
            "Get:23 http://ppa.launchpad.net/c2d4u.team/c2d4u4.0+/ubuntu bionic/main amd64 Packages [863 kB]\n",
            "Get:24 http://archive.ubuntu.com/ubuntu bionic-updates/main amd64 Packages [2,165 kB]\n",
            "Get:25 http://archive.ubuntu.com/ubuntu bionic-updates/restricted amd64 Packages [239 kB]\n",
            "Get:26 http://archive.ubuntu.com/ubuntu bionic-updates/multiverse amd64 Packages [45.9 kB]\n",
            "Fetched 11.2 MB in 3s (3,862 kB/s)\n",
            "Reading package lists... Done\n"
          ],
          "name": "stdout"
        }
      ]
    },
    {
      "cell_type": "code",
      "metadata": {
        "id": "Mm6zycFEsLeI"
      },
      "source": [
        "# Install java\n",
        "!apt-get install openjdk-8-jdk-headless -qq > /dev/null\n"
      ],
      "execution_count": 3,
      "outputs": []
    },
    {
      "cell_type": "code",
      "metadata": {
        "id": "mAd3j6fJq1Ex",
        "outputId": "944f6572-fce6-4fd7-bf59-99b026277c53",
        "colab": {
          "base_uri": "https://localhost:8080/",
          "height": 208
        }
      },
      "source": [
        "# get spark \n",
        "!wget https://downloads.apache.org/spark/spark-3.0.1/spark-3.0.1-bin-hadoop2.7.tgz"
      ],
      "execution_count": 4,
      "outputs": [
        {
          "output_type": "stream",
          "text": [
            "--2020-10-28 06:20:30--  https://downloads.apache.org/spark/spark-3.0.1/spark-3.0.1-bin-hadoop2.7.tgz\n",
            "Resolving downloads.apache.org (downloads.apache.org)... 88.99.95.219, 2a01:4f8:10a:201a::2\n",
            "Connecting to downloads.apache.org (downloads.apache.org)|88.99.95.219|:443... connected.\n",
            "HTTP request sent, awaiting response... 200 OK\n",
            "Length: 219929956 (210M) [application/x-gzip]\n",
            "Saving to: ‘spark-3.0.1-bin-hadoop2.7.tgz’\n",
            "\n",
            "spark-3.0.1-bin-had 100%[===================>] 209.74M  26.8MB/s    in 8.6s    \n",
            "\n",
            "2020-10-28 06:20:39 (24.5 MB/s) - ‘spark-3.0.1-bin-hadoop2.7.tgz’ saved [219929956/219929956]\n",
            "\n"
          ],
          "name": "stdout"
        }
      ]
    },
    {
      "cell_type": "code",
      "metadata": {
        "id": "9Wadv8_tsEQw"
      },
      "source": [
        "# decompress spark\n",
        "!tar xf spark-3.0.1-bin-hadoop2.7.tgz\n",
        "\n",
        "# install python package to help with system paths\n",
        "!pip install -q findspark"
      ],
      "execution_count": 5,
      "outputs": []
    },
    {
      "cell_type": "code",
      "metadata": {
        "id": "l60O1BJzuf_h"
      },
      "source": [
        "# Let Colab know where the java and spark folders are\n",
        "\n",
        "import os\n",
        "os.environ[\"JAVA_HOME\"] = \"/usr/lib/jvm/java-8-openjdk-amd64\"\n",
        "os.environ[\"SPARK_HOME\"] = \"/content/spark-3.0.1-bin-hadoop2.7\""
      ],
      "execution_count": 6,
      "outputs": []
    },
    {
      "cell_type": "code",
      "metadata": {
        "id": "lbpi4WDgu_VL"
      },
      "source": [
        "# add pyspark to sys.path using findspark\n",
        "import findspark\n",
        "findspark.init()\n",
        "\n",
        "# get a spark session\n",
        "from pyspark.sql import SparkSession\n",
        "spark = SparkSession.builder.master(\"local[*]\").getOrCreate()"
      ],
      "execution_count": 7,
      "outputs": []
    },
    {
      "cell_type": "code",
      "metadata": {
        "id": "o0gAVpEjvyI2",
        "outputId": "78c9f05c-fd2b-452f-ee67-f9ef6d2097df",
        "colab": {
          "base_uri": "https://localhost:8080/",
          "height": 219
        }
      },
      "source": [
        "spark"
      ],
      "execution_count": 8,
      "outputs": [
        {
          "output_type": "execute_result",
          "data": {
            "text/html": [
              "\n",
              "            <div>\n",
              "                <p><b>SparkSession - in-memory</b></p>\n",
              "                \n",
              "        <div>\n",
              "            <p><b>SparkContext</b></p>\n",
              "\n",
              "            <p><a href=\"http://172203626eaf:4040\">Spark UI</a></p>\n",
              "\n",
              "            <dl>\n",
              "              <dt>Version</dt>\n",
              "                <dd><code>v3.0.1</code></dd>\n",
              "              <dt>Master</dt>\n",
              "                <dd><code>local[*]</code></dd>\n",
              "              <dt>AppName</dt>\n",
              "                <dd><code>pyspark-shell</code></dd>\n",
              "            </dl>\n",
              "        </div>\n",
              "        \n",
              "            </div>\n",
              "        "
            ],
            "text/plain": [
              "<pyspark.sql.session.SparkSession at 0x7f0d3d18ecf8>"
            ]
          },
          "metadata": {
            "tags": []
          },
          "execution_count": 8
        }
      ]
    },
    {
      "cell_type": "markdown",
      "metadata": {
        "id": "87le9nge8TLK"
      },
      "source": [
        "Let's download some url data (\"Anonymized 120-day subset of the ICML-09 URL data containing 2.4 million examples and 3.2 million features\" [UCI](https://archive.ics.uci.edu/ml/datasets/URL+Reputation)"
      ]
    },
    {
      "cell_type": "code",
      "metadata": {
        "id": "W6SHTRfC6pFS",
        "outputId": "d285d393-3e14-43a9-bd24-d8d88129cfd2",
        "colab": {
          "base_uri": "https://localhost:8080/",
          "height": 399
        }
      },
      "source": [
        "! wget http://kdd.ics.uci.edu/databases/kddcup99/kddcup.data_10_percent.gz\n",
        "! wget http://kdd.ics.uci.edu/databases/kddcup99/kddcup.names"
      ],
      "execution_count": 9,
      "outputs": [
        {
          "output_type": "stream",
          "text": [
            "--2020-10-28 06:22:04--  http://kdd.ics.uci.edu/databases/kddcup99/kddcup.data_10_percent.gz\n",
            "Resolving kdd.ics.uci.edu (kdd.ics.uci.edu)... 128.195.1.86\n",
            "Connecting to kdd.ics.uci.edu (kdd.ics.uci.edu)|128.195.1.86|:80... connected.\n",
            "HTTP request sent, awaiting response... 200 OK\n",
            "Length: 2144903 (2.0M) [application/x-gzip]\n",
            "Saving to: ‘kddcup.data_10_percent.gz’\n",
            "\n",
            "kddcup.data_10_perc 100%[===================>]   2.04M  4.23MB/s    in 0.5s    \n",
            "\n",
            "2020-10-28 06:22:05 (4.23 MB/s) - ‘kddcup.data_10_percent.gz’ saved [2144903/2144903]\n",
            "\n",
            "--2020-10-28 06:22:05--  http://kdd.ics.uci.edu/databases/kddcup99/kddcup.names\n",
            "Resolving kdd.ics.uci.edu (kdd.ics.uci.edu)... 128.195.1.86\n",
            "Connecting to kdd.ics.uci.edu (kdd.ics.uci.edu)|128.195.1.86|:80... connected.\n",
            "HTTP request sent, awaiting response... 200 OK\n",
            "Length: 1307 (1.3K)\n",
            "Saving to: ‘kddcup.names’\n",
            "\n",
            "kddcup.names        100%[===================>]   1.28K  --.-KB/s    in 0s      \n",
            "\n",
            "2020-10-28 06:22:05 (174 MB/s) - ‘kddcup.names’ saved [1307/1307]\n",
            "\n"
          ],
          "name": "stdout"
        }
      ]
    },
    {
      "cell_type": "code",
      "metadata": {
        "id": "EbToU3UA6q_o"
      },
      "source": [
        "!gunzip kddcup.data_10_percent.gz"
      ],
      "execution_count": 10,
      "outputs": []
    },
    {
      "cell_type": "code",
      "metadata": {
        "id": "gAr0nnqG6u8v"
      },
      "source": [
        "import pandas as pd\n",
        "df = pd.read_csv('kddcup.data_10_percent', header=None)"
      ],
      "execution_count": 11,
      "outputs": []
    },
    {
      "cell_type": "code",
      "metadata": {
        "id": "dLdspkQ1844Q",
        "outputId": "f3442ab5-0f0f-4a95-e6fb-f061efdf805d",
        "colab": {
          "base_uri": "https://localhost:8080/",
          "height": 225
        }
      },
      "source": [
        "df[2].value_counts()"
      ],
      "execution_count": 12,
      "outputs": [
        {
          "output_type": "execute_result",
          "data": {
            "text/plain": [
              "ecr_i      281400\n",
              "private    110893\n",
              "http        64293\n",
              "smtp         9723\n",
              "other        7237\n",
              "            ...  \n",
              "X11            11\n",
              "tim_i           7\n",
              "red_i           1\n",
              "tftp_u          1\n",
              "pm_dump         1\n",
              "Name: 2, Length: 66, dtype: int64"
            ]
          },
          "metadata": {
            "tags": []
          },
          "execution_count": 12
        }
      ]
    },
    {
      "cell_type": "code",
      "metadata": {
        "id": "BeHGThDKAZpc",
        "outputId": "00e7d044-f9cb-41af-bd26-abfce92f8bd2",
        "colab": {
          "base_uri": "https://localhost:8080/",
          "height": 104
        }
      },
      "source": [
        "raw_rdd = spark.sparkContext.textFile('kddcup.data_10_percent').cache()\n",
        "raw_rdd.take(5)"
      ],
      "execution_count": 13,
      "outputs": [
        {
          "output_type": "execute_result",
          "data": {
            "text/plain": [
              "['0,tcp,http,SF,181,5450,0,0,0,0,0,1,0,0,0,0,0,0,0,0,0,0,8,8,0.00,0.00,0.00,0.00,1.00,0.00,0.00,9,9,1.00,0.00,0.11,0.00,0.00,0.00,0.00,0.00,normal.',\n",
              " '0,tcp,http,SF,239,486,0,0,0,0,0,1,0,0,0,0,0,0,0,0,0,0,8,8,0.00,0.00,0.00,0.00,1.00,0.00,0.00,19,19,1.00,0.00,0.05,0.00,0.00,0.00,0.00,0.00,normal.',\n",
              " '0,tcp,http,SF,235,1337,0,0,0,0,0,1,0,0,0,0,0,0,0,0,0,0,8,8,0.00,0.00,0.00,0.00,1.00,0.00,0.00,29,29,1.00,0.00,0.03,0.00,0.00,0.00,0.00,0.00,normal.',\n",
              " '0,tcp,http,SF,219,1337,0,0,0,0,0,1,0,0,0,0,0,0,0,0,0,0,6,6,0.00,0.00,0.00,0.00,1.00,0.00,0.00,39,39,1.00,0.00,0.03,0.00,0.00,0.00,0.00,0.00,normal.',\n",
              " '0,tcp,http,SF,217,2032,0,0,0,0,0,1,0,0,0,0,0,0,0,0,0,0,6,6,0.00,0.00,0.00,0.00,1.00,0.00,0.00,49,49,1.00,0.00,0.02,0.00,0.00,0.00,0.00,0.00,normal.']"
            ]
          },
          "metadata": {
            "tags": []
          },
          "execution_count": 13
        }
      ]
    },
    {
      "cell_type": "code",
      "metadata": {
        "id": "ZMHP2KnWA0W-",
        "outputId": "66a96398-5997-42c7-de43-55e5ba824fb1",
        "colab": {
          "base_uri": "https://localhost:8080/",
          "height": 72
        }
      },
      "source": [
        "csv_rdd = raw_rdd.map(lambda row: row.split(\",\"))\n",
        "print(csv_rdd.take(2))\n",
        "print(type(csv_rdd))"
      ],
      "execution_count": 14,
      "outputs": [
        {
          "output_type": "stream",
          "text": [
            "[['0', 'tcp', 'http', 'SF', '181', '5450', '0', '0', '0', '0', '0', '1', '0', '0', '0', '0', '0', '0', '0', '0', '0', '0', '8', '8', '0.00', '0.00', '0.00', '0.00', '1.00', '0.00', '0.00', '9', '9', '1.00', '0.00', '0.11', '0.00', '0.00', '0.00', '0.00', '0.00', 'normal.'], ['0', 'tcp', 'http', 'SF', '239', '486', '0', '0', '0', '0', '0', '1', '0', '0', '0', '0', '0', '0', '0', '0', '0', '0', '8', '8', '0.00', '0.00', '0.00', '0.00', '1.00', '0.00', '0.00', '19', '19', '1.00', '0.00', '0.05', '0.00', '0.00', '0.00', '0.00', '0.00', 'normal.']]\n",
            "<class 'pyspark.rdd.PipelinedRDD'>\n"
          ],
          "name": "stdout"
        }
      ]
    },
    {
      "cell_type": "code",
      "metadata": {
        "id": "vhLhdHB2BP48",
        "outputId": "a1d8ad02-e20b-44ed-b524-2cfcbd066edb",
        "colab": {
          "base_uri": "https://localhost:8080/",
          "height": 124
        }
      },
      "source": [
        "from pyspark.sql import Row\n",
        "\n",
        "parsed_rdd = csv_rdd.map(lambda r: Row(\n",
        "    duration=int(r[0]),\n",
        "    protocol_type=r[1],\n",
        "    service=r[2],\n",
        "    flag=r[3],\n",
        "    src_bytes=int(r[4]),\n",
        "    dst_bytes=int(r[5]),\n",
        "    wrong_fragment=int(r[7]),\n",
        "    urgent=int(r[8]),\n",
        "    hot=int(r[9]),\n",
        "    num_failed_logins=int(r[10]),\n",
        "    num_compromised=int(r[12]),\n",
        "    su_attempted=r[14],\n",
        "    num_root=int(r[15]),\n",
        "    num_file_creations=int(r[16]),\n",
        "    label=r[-1]\n",
        "    )\n",
        ")\n",
        "parsed_rdd.take(5)"
      ],
      "execution_count": 15,
      "outputs": [
        {
          "output_type": "execute_result",
          "data": {
            "text/plain": [
              "[Row(duration=0, protocol_type='tcp', service='http', flag='SF', src_bytes=181, dst_bytes=5450, wrong_fragment=0, urgent=0, hot=0, num_failed_logins=0, num_compromised=0, su_attempted='0', num_root=0, num_file_creations=0, label='normal.'),\n",
              " Row(duration=0, protocol_type='tcp', service='http', flag='SF', src_bytes=239, dst_bytes=486, wrong_fragment=0, urgent=0, hot=0, num_failed_logins=0, num_compromised=0, su_attempted='0', num_root=0, num_file_creations=0, label='normal.'),\n",
              " Row(duration=0, protocol_type='tcp', service='http', flag='SF', src_bytes=235, dst_bytes=1337, wrong_fragment=0, urgent=0, hot=0, num_failed_logins=0, num_compromised=0, su_attempted='0', num_root=0, num_file_creations=0, label='normal.'),\n",
              " Row(duration=0, protocol_type='tcp', service='http', flag='SF', src_bytes=219, dst_bytes=1337, wrong_fragment=0, urgent=0, hot=0, num_failed_logins=0, num_compromised=0, su_attempted='0', num_root=0, num_file_creations=0, label='normal.'),\n",
              " Row(duration=0, protocol_type='tcp', service='http', flag='SF', src_bytes=217, dst_bytes=2032, wrong_fragment=0, urgent=0, hot=0, num_failed_logins=0, num_compromised=0, su_attempted='0', num_root=0, num_file_creations=0, label='normal.')]"
            ]
          },
          "metadata": {
            "tags": []
          },
          "execution_count": 15
        }
      ]
    },
    {
      "cell_type": "code",
      "metadata": {
        "id": "vTZqz_CqBhRB",
        "outputId": "2e3bf5fc-512f-4dae-a10b-867c8a2b8505",
        "colab": {
          "base_uri": "https://localhost:8080/",
          "height": 489
        }
      },
      "source": [
        "df = spark.createDataFrame(parsed_rdd)\n",
        "df.show()"
      ],
      "execution_count": 16,
      "outputs": [
        {
          "output_type": "stream",
          "text": [
            "+--------+-------------+-------+----+---------+---------+--------------+------+---+-----------------+---------------+------------+--------+------------------+-------+\n",
            "|duration|protocol_type|service|flag|src_bytes|dst_bytes|wrong_fragment|urgent|hot|num_failed_logins|num_compromised|su_attempted|num_root|num_file_creations|  label|\n",
            "+--------+-------------+-------+----+---------+---------+--------------+------+---+-----------------+---------------+------------+--------+------------------+-------+\n",
            "|       0|          tcp|   http|  SF|      181|     5450|             0|     0|  0|                0|              0|           0|       0|                 0|normal.|\n",
            "|       0|          tcp|   http|  SF|      239|      486|             0|     0|  0|                0|              0|           0|       0|                 0|normal.|\n",
            "|       0|          tcp|   http|  SF|      235|     1337|             0|     0|  0|                0|              0|           0|       0|                 0|normal.|\n",
            "|       0|          tcp|   http|  SF|      219|     1337|             0|     0|  0|                0|              0|           0|       0|                 0|normal.|\n",
            "|       0|          tcp|   http|  SF|      217|     2032|             0|     0|  0|                0|              0|           0|       0|                 0|normal.|\n",
            "|       0|          tcp|   http|  SF|      217|     2032|             0|     0|  0|                0|              0|           0|       0|                 0|normal.|\n",
            "|       0|          tcp|   http|  SF|      212|     1940|             0|     0|  0|                0|              0|           0|       0|                 0|normal.|\n",
            "|       0|          tcp|   http|  SF|      159|     4087|             0|     0|  0|                0|              0|           0|       0|                 0|normal.|\n",
            "|       0|          tcp|   http|  SF|      210|      151|             0|     0|  0|                0|              0|           0|       0|                 0|normal.|\n",
            "|       0|          tcp|   http|  SF|      212|      786|             0|     0|  1|                0|              0|           0|       0|                 0|normal.|\n",
            "|       0|          tcp|   http|  SF|      210|      624|             0|     0|  0|                0|              0|           0|       0|                 0|normal.|\n",
            "|       0|          tcp|   http|  SF|      177|     1985|             0|     0|  0|                0|              0|           0|       0|                 0|normal.|\n",
            "|       0|          tcp|   http|  SF|      222|      773|             0|     0|  0|                0|              0|           0|       0|                 0|normal.|\n",
            "|       0|          tcp|   http|  SF|      256|     1169|             0|     0|  0|                0|              0|           0|       0|                 0|normal.|\n",
            "|       0|          tcp|   http|  SF|      241|      259|             0|     0|  0|                0|              0|           0|       0|                 0|normal.|\n",
            "|       0|          tcp|   http|  SF|      260|     1837|             0|     0|  0|                0|              0|           0|       0|                 0|normal.|\n",
            "|       0|          tcp|   http|  SF|      241|      261|             0|     0|  0|                0|              0|           0|       0|                 0|normal.|\n",
            "|       0|          tcp|   http|  SF|      257|      818|             0|     0|  0|                0|              0|           0|       0|                 0|normal.|\n",
            "|       0|          tcp|   http|  SF|      233|      255|             0|     0|  0|                0|              0|           0|       0|                 0|normal.|\n",
            "|       0|          tcp|   http|  SF|      233|      504|             0|     0|  0|                0|              0|           0|       0|                 0|normal.|\n",
            "+--------+-------------+-------+----+---------+---------+--------------+------+---+-----------------+---------------+------------+--------+------------------+-------+\n",
            "only showing top 20 rows\n",
            "\n"
          ],
          "name": "stdout"
        }
      ]
    },
    {
      "cell_type": "code",
      "metadata": {
        "id": "uQU24SGs6YZS"
      },
      "source": [
        "from pyspark.sql import functions as f"
      ],
      "execution_count": 17,
      "outputs": []
    },
    {
      "cell_type": "code",
      "metadata": {
        "id": "yNNA7WHlCD_u"
      },
      "source": [
        "# register a temporary table to query against.\n",
        "df.registerTempTable('data')"
      ],
      "execution_count": 19,
      "outputs": []
    },
    {
      "cell_type": "markdown",
      "metadata": {
        "id": "AB3QG86AIc9Q"
      },
      "source": [
        "---\n",
        "#0. Select columns"
      ]
    },
    {
      "cell_type": "code",
      "metadata": {
        "id": "QHM-LsliHwen"
      },
      "source": [
        "select = spark.sql(\"\"\"SELECT protocol_type, service\n",
        "                      FROM data\"\"\")"
      ],
      "execution_count": 20,
      "outputs": []
    },
    {
      "cell_type": "code",
      "metadata": {
        "id": "V_ZSeIJQHw8b",
        "outputId": "466f84f0-d089-4174-b5d6-e1d59b434fa8",
        "colab": {
          "base_uri": "https://localhost:8080/",
          "height": 295
        }
      },
      "source": [
        "select.show(10)"
      ],
      "execution_count": 21,
      "outputs": [
        {
          "output_type": "stream",
          "text": [
            "+-------------+-------+\n",
            "|protocol_type|service|\n",
            "+-------------+-------+\n",
            "|          tcp|   http|\n",
            "|          tcp|   http|\n",
            "|          tcp|   http|\n",
            "|          tcp|   http|\n",
            "|          tcp|   http|\n",
            "|          tcp|   http|\n",
            "|          tcp|   http|\n",
            "|          tcp|   http|\n",
            "|          tcp|   http|\n",
            "|          tcp|   http|\n",
            "+-------------+-------+\n",
            "only showing top 10 rows\n",
            "\n"
          ],
          "name": "stdout"
        }
      ]
    },
    {
      "cell_type": "code",
      "metadata": {
        "id": "wqO6_d1MHwzH"
      },
      "source": [
        "select_spark = df.select('protocol_type', 'service')"
      ],
      "execution_count": 22,
      "outputs": []
    },
    {
      "cell_type": "code",
      "metadata": {
        "id": "DUftQKIHHwTl",
        "outputId": "96df4179-670a-4203-9e81-8c721766de34",
        "colab": {
          "base_uri": "https://localhost:8080/",
          "height": 295
        }
      },
      "source": [
        "select_spark.show(10)"
      ],
      "execution_count": 23,
      "outputs": [
        {
          "output_type": "stream",
          "text": [
            "+-------------+-------+\n",
            "|protocol_type|service|\n",
            "+-------------+-------+\n",
            "|          tcp|   http|\n",
            "|          tcp|   http|\n",
            "|          tcp|   http|\n",
            "|          tcp|   http|\n",
            "|          tcp|   http|\n",
            "|          tcp|   http|\n",
            "|          tcp|   http|\n",
            "|          tcp|   http|\n",
            "|          tcp|   http|\n",
            "|          tcp|   http|\n",
            "+-------------+-------+\n",
            "only showing top 10 rows\n",
            "\n"
          ],
          "name": "stdout"
        }
      ]
    },
    {
      "cell_type": "markdown",
      "metadata": {
        "id": "wgFosi_oJFJb"
      },
      "source": [
        "#### OR using a list also works"
      ]
    },
    {
      "cell_type": "code",
      "metadata": {
        "id": "QKNEqFSGJIkx",
        "outputId": "f5967494-1978-4f88-eb12-3c2a99098f16",
        "colab": {
          "base_uri": "https://localhost:8080/",
          "height": 295
        }
      },
      "source": [
        "select_spark = df.select(['protocol_type', 'service'])\n",
        "select_spark.show(10)"
      ],
      "execution_count": 24,
      "outputs": [
        {
          "output_type": "stream",
          "text": [
            "+-------------+-------+\n",
            "|protocol_type|service|\n",
            "+-------------+-------+\n",
            "|          tcp|   http|\n",
            "|          tcp|   http|\n",
            "|          tcp|   http|\n",
            "|          tcp|   http|\n",
            "|          tcp|   http|\n",
            "|          tcp|   http|\n",
            "|          tcp|   http|\n",
            "|          tcp|   http|\n",
            "|          tcp|   http|\n",
            "|          tcp|   http|\n",
            "+-------------+-------+\n",
            "only showing top 10 rows\n",
            "\n"
          ],
          "name": "stdout"
        }
      ]
    },
    {
      "cell_type": "markdown",
      "metadata": {
        "id": "UexKUefVJSOQ"
      },
      "source": [
        "---\n",
        "# 1. select as alias"
      ]
    },
    {
      "cell_type": "code",
      "metadata": {
        "id": "k7j_LBFWJchg"
      },
      "source": [
        "alias = spark.sql(\"\"\"SELECT protocol_type,\n",
        "                            label as flag\n",
        "                     FROM data\n",
        "                  \"\"\")"
      ],
      "execution_count": 25,
      "outputs": []
    },
    {
      "cell_type": "code",
      "metadata": {
        "id": "VA5FWkOyJczb",
        "outputId": "e6806460-fec0-45d7-9d6b-e997b06192b0",
        "colab": {
          "base_uri": "https://localhost:8080/",
          "height": 469
        }
      },
      "source": [
        "alias.show()"
      ],
      "execution_count": 26,
      "outputs": [
        {
          "output_type": "stream",
          "text": [
            "+-------------+-------+\n",
            "|protocol_type|   flag|\n",
            "+-------------+-------+\n",
            "|          tcp|normal.|\n",
            "|          tcp|normal.|\n",
            "|          tcp|normal.|\n",
            "|          tcp|normal.|\n",
            "|          tcp|normal.|\n",
            "|          tcp|normal.|\n",
            "|          tcp|normal.|\n",
            "|          tcp|normal.|\n",
            "|          tcp|normal.|\n",
            "|          tcp|normal.|\n",
            "|          tcp|normal.|\n",
            "|          tcp|normal.|\n",
            "|          tcp|normal.|\n",
            "|          tcp|normal.|\n",
            "|          tcp|normal.|\n",
            "|          tcp|normal.|\n",
            "|          tcp|normal.|\n",
            "|          tcp|normal.|\n",
            "|          tcp|normal.|\n",
            "|          tcp|normal.|\n",
            "+-------------+-------+\n",
            "only showing top 20 rows\n",
            "\n"
          ],
          "name": "stdout"
        }
      ]
    },
    {
      "cell_type": "code",
      "metadata": {
        "id": "ibkdCi1xJcmV"
      },
      "source": [
        "alias_spark = df.select('protocol_type', 'label').withColumnRenamed('label', 'flag')"
      ],
      "execution_count": 27,
      "outputs": []
    },
    {
      "cell_type": "code",
      "metadata": {
        "id": "ysR___SFJceU",
        "outputId": "d440b2be-4d27-4540-dec2-5fe2361f617f",
        "colab": {
          "base_uri": "https://localhost:8080/",
          "height": 469
        }
      },
      "source": [
        "alias_spark.show()"
      ],
      "execution_count": 28,
      "outputs": [
        {
          "output_type": "stream",
          "text": [
            "+-------------+-------+\n",
            "|protocol_type|   flag|\n",
            "+-------------+-------+\n",
            "|          tcp|normal.|\n",
            "|          tcp|normal.|\n",
            "|          tcp|normal.|\n",
            "|          tcp|normal.|\n",
            "|          tcp|normal.|\n",
            "|          tcp|normal.|\n",
            "|          tcp|normal.|\n",
            "|          tcp|normal.|\n",
            "|          tcp|normal.|\n",
            "|          tcp|normal.|\n",
            "|          tcp|normal.|\n",
            "|          tcp|normal.|\n",
            "|          tcp|normal.|\n",
            "|          tcp|normal.|\n",
            "|          tcp|normal.|\n",
            "|          tcp|normal.|\n",
            "|          tcp|normal.|\n",
            "|          tcp|normal.|\n",
            "|          tcp|normal.|\n",
            "|          tcp|normal.|\n",
            "+-------------+-------+\n",
            "only showing top 20 rows\n",
            "\n"
          ],
          "name": "stdout"
        }
      ]
    },
    {
      "cell_type": "markdown",
      "metadata": {
        "id": "_VkTVQ5VKZ5s"
      },
      "source": [
        "#### OR using dataframe column-objects with .alias"
      ]
    },
    {
      "cell_type": "code",
      "metadata": {
        "id": "Rd7lAhSmKRAX",
        "outputId": "94769cd0-92ad-4ff3-d2b6-2a3783355768",
        "colab": {
          "base_uri": "https://localhost:8080/",
          "height": 295
        }
      },
      "source": [
        "alias_spark = df.select(df.protocol_type, df.label.alias('flag'))\n",
        "alias_spark.show(10)"
      ],
      "execution_count": 29,
      "outputs": [
        {
          "output_type": "stream",
          "text": [
            "+-------------+-------+\n",
            "|protocol_type|   flag|\n",
            "+-------------+-------+\n",
            "|          tcp|normal.|\n",
            "|          tcp|normal.|\n",
            "|          tcp|normal.|\n",
            "|          tcp|normal.|\n",
            "|          tcp|normal.|\n",
            "|          tcp|normal.|\n",
            "|          tcp|normal.|\n",
            "|          tcp|normal.|\n",
            "|          tcp|normal.|\n",
            "|          tcp|normal.|\n",
            "+-------------+-------+\n",
            "only showing top 10 rows\n",
            "\n"
          ],
          "name": "stdout"
        }
      ]
    },
    {
      "cell_type": "markdown",
      "metadata": {
        "id": "d8TdxqQz_DXR"
      },
      "source": [
        "# 2. group by, count, order by"
      ]
    },
    {
      "cell_type": "code",
      "metadata": {
        "id": "q4le_EnCCWY0",
        "outputId": "54896764-2078-44c4-99f5-76c73e0c27ce",
        "colab": {
          "base_uri": "https://localhost:8080/",
          "height": 156
        }
      },
      "source": [
        "protocols = spark.sql(\"\"\"\n",
        "      SELECT protocol_type, count(*) as freq\n",
        "      FROM data\n",
        "      GROUP BY protocol_type\n",
        "      ORDER BY 2 DESC\n",
        "                           \"\"\")\n",
        "protocols.show()"
      ],
      "execution_count": 30,
      "outputs": [
        {
          "output_type": "stream",
          "text": [
            "+-------------+------+\n",
            "|protocol_type|  freq|\n",
            "+-------------+------+\n",
            "|         icmp|283602|\n",
            "|          tcp|190065|\n",
            "|          udp| 20354|\n",
            "+-------------+------+\n",
            "\n"
          ],
          "name": "stdout"
        }
      ]
    },
    {
      "cell_type": "code",
      "metadata": {
        "id": "Bmp9bXaRCLjO",
        "outputId": "d756fefd-0350-484e-8e3f-a11dfacd05f1",
        "colab": {
          "base_uri": "https://localhost:8080/",
          "height": 156
        }
      },
      "source": [
        "df.groupBy('protocol_type').count().orderBy('count', ascending=False).show()"
      ],
      "execution_count": 31,
      "outputs": [
        {
          "output_type": "stream",
          "text": [
            "+-------------+------+\n",
            "|protocol_type| count|\n",
            "+-------------+------+\n",
            "|         icmp|283602|\n",
            "|          tcp|190065|\n",
            "|          udp| 20354|\n",
            "+-------------+------+\n",
            "\n"
          ],
          "name": "stdout"
        }
      ]
    },
    {
      "cell_type": "code",
      "metadata": {
        "id": "qgjkntrqHtun"
      },
      "source": [
        ""
      ],
      "execution_count": 31,
      "outputs": []
    },
    {
      "cell_type": "code",
      "metadata": {
        "id": "e8T7v7-hCueD",
        "outputId": "55c8cbd2-2ff6-4489-b5e7-f4f348e110c5",
        "colab": {
          "base_uri": "https://localhost:8080/",
          "height": 34
        }
      },
      "source": [
        "df.count()"
      ],
      "execution_count": 32,
      "outputs": [
        {
          "output_type": "execute_result",
          "data": {
            "text/plain": [
              "494021"
            ]
          },
          "metadata": {
            "tags": []
          },
          "execution_count": 32
        }
      ]
    },
    {
      "cell_type": "markdown",
      "metadata": {
        "id": "06jXlwmU_O0c"
      },
      "source": [
        "---\n",
        "# 3. group by, count, order by (using agg)"
      ]
    },
    {
      "cell_type": "code",
      "metadata": {
        "id": "MYHRoj36EV6B"
      },
      "source": [
        "labels = spark.sql(\"\"\"\n",
        "  SELECT label, count(*) as freq\n",
        "  FROM data\n",
        "  GROUP BY label\n",
        "  ORDER BY 2 DESC\n",
        "\"\"\")"
      ],
      "execution_count": 33,
      "outputs": []
    },
    {
      "cell_type": "code",
      "metadata": {
        "id": "pmZtqo1V-Ccq",
        "outputId": "c5340fe6-1b9b-4a67-f054-093b902ad25f",
        "colab": {
          "base_uri": "https://localhost:8080/",
          "height": 469
        }
      },
      "source": [
        "labels.show()"
      ],
      "execution_count": 34,
      "outputs": [
        {
          "output_type": "stream",
          "text": [
            "+----------------+------+\n",
            "|           label|  freq|\n",
            "+----------------+------+\n",
            "|          smurf.|280790|\n",
            "|        neptune.|107201|\n",
            "|         normal.| 97278|\n",
            "|           back.|  2203|\n",
            "|          satan.|  1589|\n",
            "|        ipsweep.|  1247|\n",
            "|      portsweep.|  1040|\n",
            "|    warezclient.|  1020|\n",
            "|       teardrop.|   979|\n",
            "|            pod.|   264|\n",
            "|           nmap.|   231|\n",
            "|   guess_passwd.|    53|\n",
            "|buffer_overflow.|    30|\n",
            "|           land.|    21|\n",
            "|    warezmaster.|    20|\n",
            "|           imap.|    12|\n",
            "|        rootkit.|    10|\n",
            "|     loadmodule.|     9|\n",
            "|      ftp_write.|     8|\n",
            "|       multihop.|     7|\n",
            "+----------------+------+\n",
            "only showing top 20 rows\n",
            "\n"
          ],
          "name": "stdout"
        }
      ]
    },
    {
      "cell_type": "code",
      "metadata": {
        "id": "isahL3zB-F9p"
      },
      "source": [
        "labels_spark = df.groupBy('label')\\\n",
        "                .agg(f.count(f.lit(1))\\\n",
        "                    .alias('freq'))\\\n",
        "                    .orderBy('freq', ascending=False)"
      ],
      "execution_count": 35,
      "outputs": []
    },
    {
      "cell_type": "code",
      "metadata": {
        "id": "iWuxd0wu-Fz9",
        "outputId": "e64c61e0-1047-445d-9e81-3588f9213dd8",
        "colab": {
          "base_uri": "https://localhost:8080/",
          "height": 469
        }
      },
      "source": [
        "labels_spark.show()"
      ],
      "execution_count": 36,
      "outputs": [
        {
          "output_type": "stream",
          "text": [
            "+----------------+------+\n",
            "|           label|  freq|\n",
            "+----------------+------+\n",
            "|          smurf.|280790|\n",
            "|        neptune.|107201|\n",
            "|         normal.| 97278|\n",
            "|           back.|  2203|\n",
            "|          satan.|  1589|\n",
            "|        ipsweep.|  1247|\n",
            "|      portsweep.|  1040|\n",
            "|    warezclient.|  1020|\n",
            "|       teardrop.|   979|\n",
            "|            pod.|   264|\n",
            "|           nmap.|   231|\n",
            "|   guess_passwd.|    53|\n",
            "|buffer_overflow.|    30|\n",
            "|           land.|    21|\n",
            "|    warezmaster.|    20|\n",
            "|           imap.|    12|\n",
            "|        rootkit.|    10|\n",
            "|     loadmodule.|     9|\n",
            "|      ftp_write.|     8|\n",
            "|       multihop.|     7|\n",
            "+----------------+------+\n",
            "only showing top 20 rows\n",
            "\n"
          ],
          "name": "stdout"
        }
      ]
    },
    {
      "cell_type": "markdown",
      "metadata": {
        "id": "9gCGSzGr-Azf"
      },
      "source": [
        "---\n",
        "#4. case, group by, count, order by"
      ]
    },
    {
      "cell_type": "code",
      "metadata": {
        "id": "Gyozq1CnEbBA"
      },
      "source": [
        "attack_protocol = spark.sql(\"\"\"\n",
        "                           SELECT\n",
        "                             protocol_type,\n",
        "                             CASE label\n",
        "                               WHEN 'normal.' THEN 'no attack'\n",
        "                               ELSE 'attack'\n",
        "                             END AS state,\n",
        "                             COUNT(*) as freq\n",
        "                           FROM data\n",
        "                           GROUP BY protocol_type, state\n",
        "                           ORDER BY 3 DESC\n",
        "                           \"\"\")"
      ],
      "execution_count": 37,
      "outputs": []
    },
    {
      "cell_type": "code",
      "metadata": {
        "id": "Tjg6bbh7EwrH",
        "outputId": "9eec4173-f1d9-42ea-e14e-3158e9e25a90",
        "colab": {
          "base_uri": "https://localhost:8080/",
          "height": 208
        }
      },
      "source": [
        "attack_protocol.show()"
      ],
      "execution_count": 38,
      "outputs": [
        {
          "output_type": "stream",
          "text": [
            "+-------------+---------+------+\n",
            "|protocol_type|    state|  freq|\n",
            "+-------------+---------+------+\n",
            "|         icmp|   attack|282314|\n",
            "|          tcp|   attack|113252|\n",
            "|          tcp|no attack| 76813|\n",
            "|          udp|no attack| 19177|\n",
            "|         icmp|no attack|  1288|\n",
            "|          udp|   attack|  1177|\n",
            "+-------------+---------+------+\n",
            "\n"
          ],
          "name": "stdout"
        }
      ]
    },
    {
      "cell_type": "code",
      "metadata": {
        "id": "qTAEnJp-XDlw"
      },
      "source": [
        "att_prot_spark = df.withColumn('state', f.when(df.label=='normal.', 'no attack').otherwise('attack'))\\\n",
        "                  .groupBy('protocol_type', 'state')\\\n",
        "                  .agg(f.count(f.lit(1)).alias('freq'))\\\n",
        "                  .orderBy('freq', ascending=False)\n"
      ],
      "execution_count": 39,
      "outputs": []
    },
    {
      "cell_type": "code",
      "metadata": {
        "id": "AinIOikp6DB7",
        "outputId": "ba9cc875-19ff-4f59-854e-0a5b5349bed9",
        "colab": {
          "base_uri": "https://localhost:8080/",
          "height": 208
        }
      },
      "source": [
        "att_prot_spark.show()"
      ],
      "execution_count": 40,
      "outputs": [
        {
          "output_type": "stream",
          "text": [
            "+-------------+---------+------+\n",
            "|protocol_type|    state|  freq|\n",
            "+-------------+---------+------+\n",
            "|         icmp|   attack|282314|\n",
            "|          tcp|   attack|113252|\n",
            "|          tcp|no attack| 76813|\n",
            "|          udp|no attack| 19177|\n",
            "|         icmp|no attack|  1288|\n",
            "|          udp|   attack|  1177|\n",
            "+-------------+---------+------+\n",
            "\n"
          ],
          "name": "stdout"
        }
      ]
    },
    {
      "cell_type": "markdown",
      "metadata": {
        "id": "QvLHycsW_u4J"
      },
      "source": [
        "---\n",
        "#5. group by, aggregations"
      ]
    },
    {
      "cell_type": "code",
      "metadata": {
        "id": "O1GPRBt47ODq"
      },
      "source": [
        "attack_stats = spark.sql(\"\"\"\n",
        "                          SELECT\n",
        "                            protocol_type,\n",
        "                            CASE label\n",
        "                              WHEN 'normal.' THEN 'no attack'\n",
        "                              ELSE 'attack'\n",
        "                            END AS state,\n",
        "                            COUNT(*) as total_freq,\n",
        "                            ROUND(AVG(src_bytes), 2) as mean_src_bytes,\n",
        "                            ROUND(AVG(dst_bytes), 2) as mean_dst_bytes,\n",
        "                            ROUND(AVG(duration), 2) as mean_duration,\n",
        "                            SUM(num_failed_logins) as total_failed_logins,\n",
        "                            SUM(num_compromised) as total_compromised,\n",
        "                            SUM(num_file_creations) as total_file_creations,\n",
        "                            SUM(su_attempted) as total_root_attempts,\n",
        "                            SUM(num_root) as total_root_acceses\n",
        "                          FROM data\n",
        "                          GROUP BY protocol_type, state\n",
        "                          ORDER BY 3 DESC\n",
        "                          \"\"\")"
      ],
      "execution_count": 41,
      "outputs": []
    },
    {
      "cell_type": "code",
      "metadata": {
        "id": "KpzYvR-Y9vaw",
        "outputId": "e502081f-d039-42d9-99c7-b79604988bc4",
        "colab": {
          "base_uri": "https://localhost:8080/",
          "height": 228
        }
      },
      "source": [
        "attack_stats.show()"
      ],
      "execution_count": 42,
      "outputs": [
        {
          "output_type": "stream",
          "text": [
            "+-------------+---------+----------+--------------+--------------+-------------+-------------------+-----------------+--------------------+-------------------+------------------+\n",
            "|protocol_type|    state|total_freq|mean_src_bytes|mean_dst_bytes|mean_duration|total_failed_logins|total_compromised|total_file_creations|total_root_attempts|total_root_acceses|\n",
            "+-------------+---------+----------+--------------+--------------+-------------+-------------------+-----------------+--------------------+-------------------+------------------+\n",
            "|         icmp|   attack|    282314|        932.14|           0.0|          0.0|                  0|                0|                   0|                0.0|                 0|\n",
            "|          tcp|   attack|    113252|       9880.38|        881.41|        23.19|                 57|             2269|                  76|                1.0|               152|\n",
            "|          tcp|no attack|     76813|       1439.31|       4263.97|        11.08|                 18|             2776|                 459|               17.0|              5456|\n",
            "|          udp|no attack|     19177|         98.01|         89.89|      1054.63|                  0|                0|                   0|                0.0|                 0|\n",
            "|         icmp|no attack|      1288|         91.47|           0.0|          0.0|                  0|                0|                   0|                0.0|                 0|\n",
            "|          udp|   attack|      1177|          27.5|          0.23|          0.0|                  0|                0|                   0|                0.0|                 0|\n",
            "+-------------+---------+----------+--------------+--------------+-------------+-------------------+-----------------+--------------------+-------------------+------------------+\n",
            "\n"
          ],
          "name": "stdout"
        }
      ]
    },
    {
      "cell_type": "code",
      "metadata": {
        "id": "Ig3lTdSb90Ey"
      },
      "source": [
        "attack_stats_spark = df.withColumn('state', f.when(df.label=='normal.', 'no attack').otherwise('attack'))\\\n",
        ".groupBy('protocol_type', 'state')\\\n",
        ".agg(f.count(f.lit(1)).alias('total_freq'),\n",
        "     f.avg('src_bytes').alias('mean_src_bytes'),\n",
        "     f.avg('dst_bytes').alias('mean_dst_bytes'),\n",
        "     f.avg('duration').alias('mean_duration'),\n",
        "     f.sum('num_failed_logins').alias('total_failed_logins'),\n",
        "     f.sum('num_compromised').alias('total_compromised'),\n",
        "     f.sum('num_file_creations').alias('total_file_creations'),\n",
        "     f.sum('su_attempted').alias('total_root_attempts'),\n",
        "     f.sum('num_root').alias('total_root_acceses'),\n",
        "     )\\\n",
        "     .orderBy('total_freq', ascending=False)"
      ],
      "execution_count": 43,
      "outputs": []
    },
    {
      "cell_type": "code",
      "metadata": {
        "id": "cGJt0IrxAIXh",
        "outputId": "851253d6-64f9-412c-a1bb-88be47c0c6f9",
        "colab": {
          "base_uri": "https://localhost:8080/",
          "height": 228
        }
      },
      "source": [
        "attack_stats_spark.show()"
      ],
      "execution_count": 44,
      "outputs": [
        {
          "output_type": "stream",
          "text": [
            "+-------------+---------+----------+------------------+-------------------+------------------+-------------------+-----------------+--------------------+-------------------+------------------+\n",
            "|protocol_type|    state|total_freq|    mean_src_bytes|     mean_dst_bytes|     mean_duration|total_failed_logins|total_compromised|total_file_creations|total_root_attempts|total_root_acceses|\n",
            "+-------------+---------+----------+------------------+-------------------+------------------+-------------------+-----------------+--------------------+-------------------+------------------+\n",
            "|         icmp|   attack|    282314| 932.1362985895138|                0.0|               0.0|                  0|                0|                   0|                0.0|                 0|\n",
            "|          tcp|   attack|    113252| 9880.375225161586|  881.4052467064599| 23.19422173559849|                 57|             2269|                  76|                1.0|               152|\n",
            "|          tcp|no attack|     76813|1439.3120305156679|   4263.96793511515|11.082980745446735|                 18|             2776|                 459|               17.0|              5456|\n",
            "|          udp|no attack|     19177| 98.01220211711947|  89.89471763049487|  1054.63179850863|                  0|                0|                   0|                0.0|                 0|\n",
            "|         icmp|no attack|      1288| 91.47049689440993|                0.0|               0.0|                  0|                0|                   0|                0.0|                 0|\n",
            "|          udp|   attack|      1177| 27.50467289719626|0.22939677145284623|               0.0|                  0|                0|                   0|                0.0|                 0|\n",
            "+-------------+---------+----------+------------------+-------------------+------------------+-------------------+-----------------+--------------------+-------------------+------------------+\n",
            "\n"
          ],
          "name": "stdout"
        }
      ]
    },
    {
      "cell_type": "markdown",
      "metadata": {
        "id": "baMxExBFEwNy"
      },
      "source": [
        "---\n",
        "# 6. filter, group by "
      ]
    },
    {
      "cell_type": "code",
      "metadata": {
        "id": "EkagtnddEvgs"
      },
      "source": [
        "tcp_attack_stats = spark.sql(\"\"\"\n",
        "                              SELECT\n",
        "                                service,\n",
        "                                label as attack_type,\n",
        "                                COUNT(*) as total_freq,\n",
        "                                ROUND(AVG(duration), 2) as mean_duration,\n",
        "                                SUM(num_failed_logins) as total_failed_logins,\n",
        "                                SUM(num_file_creations) as total_file_creations,\n",
        "                                SUM(su_attempted) as total_root_attempts,\n",
        "                                SUM(num_root) as total_root_acceses\n",
        "                              FROM data\n",
        "                              WHERE protocol_type = 'tcp'\n",
        "                              AND label != 'normal.'\n",
        "                              GROUP BY service, attack_type\n",
        "                              ORDER BY total_freq DESC\n",
        "                              \"\"\")"
      ],
      "execution_count": 45,
      "outputs": []
    },
    {
      "cell_type": "code",
      "metadata": {
        "id": "8LPlGI18AlO2",
        "outputId": "595b1383-16c1-4888-e698-0c133b0cb7c6",
        "colab": {
          "base_uri": "https://localhost:8080/",
          "height": 469
        }
      },
      "source": [
        "tcp_attack_stats.show()"
      ],
      "execution_count": 46,
      "outputs": [
        {
          "output_type": "stream",
          "text": [
            "+----------+------------+----------+-------------+-------------------+--------------------+-------------------+------------------+\n",
            "|   service| attack_type|total_freq|mean_duration|total_failed_logins|total_file_creations|total_root_attempts|total_root_acceses|\n",
            "+----------+------------+----------+-------------+-------------------+--------------------+-------------------+------------------+\n",
            "|   private|    neptune.|    101317|          0.0|                  0|                   0|                0.0|                 0|\n",
            "|      http|       back.|      2203|         0.13|                  0|                   0|                0.0|                 0|\n",
            "|     other|      satan.|      1221|          0.0|                  0|                   0|                0.0|                 0|\n",
            "|   private|  portsweep.|       725|      1915.81|                  0|                   0|                0.0|                 0|\n",
            "|  ftp_data|warezclient.|       708|       403.71|                  0|                   0|                0.0|                 0|\n",
            "|       ftp|warezclient.|       307|      1063.79|                  0|                   0|                0.0|                 0|\n",
            "|     other|  portsweep.|       260|      1058.22|                  0|                   0|                0.0|                 0|\n",
            "|    telnet|    neptune.|       197|          0.0|                  0|                   0|                0.0|                 0|\n",
            "|      http|    neptune.|       192|          0.0|                  0|                   0|                0.0|                 0|\n",
            "|    finger|    neptune.|       177|          0.0|                  0|                   0|                0.0|                 0|\n",
            "|  ftp_data|    neptune.|       170|          0.0|                  0|                   0|                0.0|                 0|\n",
            "|   private|      satan.|       170|         0.05|                  0|                   0|                0.0|                 0|\n",
            "|  csnet_ns|    neptune.|       123|          0.0|                  0|                   0|                0.0|                 0|\n",
            "|      smtp|    neptune.|       120|          0.0|                  0|                   0|                0.0|                 0|\n",
            "|remote_job|    neptune.|       118|          0.0|                  0|                   0|                0.0|                 0|\n",
            "|     pop_3|    neptune.|       118|          0.0|                  0|                   0|                0.0|                 0|\n",
            "|   discard|    neptune.|       115|          0.0|                  0|                   0|                0.0|                 0|\n",
            "|  iso_tsap|    neptune.|       115|          0.0|                  0|                   0|                0.0|                 0|\n",
            "|    systat|    neptune.|       113|          0.0|                  0|                   0|                0.0|                 0|\n",
            "|    gopher|    neptune.|       112|          0.0|                  0|                   0|                0.0|                 0|\n",
            "+----------+------------+----------+-------------+-------------------+--------------------+-------------------+------------------+\n",
            "only showing top 20 rows\n",
            "\n"
          ],
          "name": "stdout"
        }
      ]
    },
    {
      "cell_type": "code",
      "metadata": {
        "id": "gV9GkI6YE4Y9"
      },
      "source": [
        "tcp_attack_stats_spark = df.filter((df.protocol_type  == \"tcp\") & (df.label  != \"normal.\")).groupBy('service', df.label.alias('attack_type'))\\\n",
        ".agg(f.count(f.lit(1)).alias('total_freq'),\n",
        "     f.avg('duration').alias('mean_duration'),\n",
        "     f.sum('num_failed_logins').alias('total_failed_logins'),\n",
        "     f.sum('num_file_creations').alias('total_file_creations'),\n",
        "     f.sum('su_attempted').alias('total_root_attempts'),\n",
        "     f.sum('num_root').alias('total_root_acceses'))\\\n",
        ".orderBy('total_freq', ascending=False)"
      ],
      "execution_count": 47,
      "outputs": []
    },
    {
      "cell_type": "code",
      "metadata": {
        "id": "ksvTWt7FFspS",
        "outputId": "79db2a9f-e104-47e6-d776-93a57c761646",
        "colab": {
          "base_uri": "https://localhost:8080/",
          "height": 469
        }
      },
      "source": [
        "tcp_attack_stats_spark.show()"
      ],
      "execution_count": 48,
      "outputs": [
        {
          "output_type": "stream",
          "text": [
            "+----------+------------+----------+--------------------+-------------------+--------------------+-------------------+------------------+\n",
            "|   service| attack_type|total_freq|       mean_duration|total_failed_logins|total_file_creations|total_root_attempts|total_root_acceses|\n",
            "+----------+------------+----------+--------------------+-------------------+--------------------+-------------------+------------------+\n",
            "|   private|    neptune.|    101317|                 0.0|                  0|                   0|                0.0|                 0|\n",
            "|      http|       back.|      2203|  0.1289151157512483|                  0|                   0|                0.0|                 0|\n",
            "|     other|      satan.|      1221|0.004914004914004914|                  0|                   0|                0.0|                 0|\n",
            "|   private|  portsweep.|       725|  1915.8110344827587|                  0|                   0|                0.0|                 0|\n",
            "|  ftp_data|warezclient.|       708|  403.70621468926555|                  0|                   0|                0.0|                 0|\n",
            "|       ftp|warezclient.|       307|  1063.7915309446255|                  0|                   0|                0.0|                 0|\n",
            "|     other|  portsweep.|       260|  1058.2153846153847|                  0|                   0|                0.0|                 0|\n",
            "|    telnet|    neptune.|       197|                 0.0|                  0|                   0|                0.0|                 0|\n",
            "|      http|    neptune.|       192|                 0.0|                  0|                   0|                0.0|                 0|\n",
            "|    finger|    neptune.|       177|                 0.0|                  0|                   0|                0.0|                 0|\n",
            "|   private|      satan.|       170|0.052941176470588235|                  0|                   0|                0.0|                 0|\n",
            "|  ftp_data|    neptune.|       170|                 0.0|                  0|                   0|                0.0|                 0|\n",
            "|  csnet_ns|    neptune.|       123|                 0.0|                  0|                   0|                0.0|                 0|\n",
            "|      smtp|    neptune.|       120|                 0.0|                  0|                   0|                0.0|                 0|\n",
            "|remote_job|    neptune.|       118|                 0.0|                  0|                   0|                0.0|                 0|\n",
            "|     pop_3|    neptune.|       118|                 0.0|                  0|                   0|                0.0|                 0|\n",
            "|   discard|    neptune.|       115|                 0.0|                  0|                   0|                0.0|                 0|\n",
            "|  iso_tsap|    neptune.|       115|                 0.0|                  0|                   0|                0.0|                 0|\n",
            "|    systat|    neptune.|       113|                 0.0|                  0|                   0|                0.0|                 0|\n",
            "|    gopher|    neptune.|       112|                 0.0|                  0|                   0|                0.0|                 0|\n",
            "+----------+------------+----------+--------------------+-------------------+--------------------+-------------------+------------------+\n",
            "only showing top 20 rows\n",
            "\n"
          ],
          "name": "stdout"
        }
      ]
    },
    {
      "cell_type": "markdown",
      "metadata": {
        "id": "iTCIdHu5NGK2"
      },
      "source": [
        "---\n",
        "#7. sub-queries"
      ]
    },
    {
      "cell_type": "code",
      "metadata": {
        "id": "7lvC5LyrLOyK"
      },
      "source": [
        "tcp_attack_stats = spark.sql(\"\"\"\n",
        "                              SELECT\n",
        "                                t.service,\n",
        "                                t.attack_type,\n",
        "                                t.total_freq\n",
        "                              FROM\n",
        "                              (SELECT\n",
        "                                service,\n",
        "                                label as attack_type,\n",
        "                                COUNT(*) as total_freq,\n",
        "                                ROUND(AVG(duration), 2) as mean_duration,\n",
        "                                SUM(num_failed_logins) as total_failed_logins,\n",
        "                                SUM(num_file_creations) as total_file_creations,\n",
        "                                SUM(su_attempted) as total_root_attempts,\n",
        "                                SUM(num_root) as total_root_acceses\n",
        "                              FROM data\n",
        "                              WHERE protocol_type = 'tcp'\n",
        "                              AND label != 'normal.'\n",
        "                              GROUP BY service, attack_type\n",
        "                              ORDER BY total_freq DESC) as t\n",
        "                                WHERE t.mean_duration > 0\n",
        "                              \"\"\")"
      ],
      "execution_count": 49,
      "outputs": []
    },
    {
      "cell_type": "code",
      "metadata": {
        "id": "Df0x3JcVNqHY",
        "outputId": "95303699-888e-4d79-f36c-0997bc50aebe",
        "colab": {
          "base_uri": "https://localhost:8080/",
          "height": 469
        }
      },
      "source": [
        "tcp_attack_stats.show()"
      ],
      "execution_count": 50,
      "outputs": [
        {
          "output_type": "stream",
          "text": [
            "+--------+----------------+----------+\n",
            "| service|     attack_type|total_freq|\n",
            "+--------+----------------+----------+\n",
            "|    http|           back.|      2203|\n",
            "| private|      portsweep.|       725|\n",
            "|ftp_data|    warezclient.|       708|\n",
            "|     ftp|    warezclient.|       307|\n",
            "|   other|      portsweep.|       260|\n",
            "| private|          satan.|       170|\n",
            "|  telnet|   guess_passwd.|        53|\n",
            "|  telnet|buffer_overflow.|        21|\n",
            "|ftp_data|    warezmaster.|        18|\n",
            "|   imap4|           imap.|        12|\n",
            "|  telnet|        rootkit.|         5|\n",
            "|   other|    warezclient.|         5|\n",
            "|  telnet|     loadmodule.|         5|\n",
            "|  supdup|      portsweep.|         4|\n",
            "|    http|            phf.|         4|\n",
            "|   pop_3|      portsweep.|         3|\n",
            "|csnet_ns|      portsweep.|         3|\n",
            "|    http|        ipsweep.|         3|\n",
            "|  gopher|        ipsweep.|         3|\n",
            "|  finger|          satan.|         3|\n",
            "+--------+----------------+----------+\n",
            "only showing top 20 rows\n",
            "\n"
          ],
          "name": "stdout"
        }
      ]
    },
    {
      "cell_type": "code",
      "metadata": {
        "id": "3MBu9zi4NuRH"
      },
      "source": [
        "tcp_attack_stats_spark = df.filter((df.protocol_type  == \"tcp\") & (df.label  != \"normal.\"))\\\n",
        ".groupBy('service', df.label.alias('attack_type'))\\\n",
        ".agg(f.count(f.lit(1)).alias('total_freq'),\n",
        "     f.avg('duration').alias('mean_duration'),\n",
        "     f.sum('num_failed_logins').alias('total_failed_logins'),\n",
        "     f.sum('num_file_creations').alias('total_file_creations'),\n",
        "     f.sum('su_attempted').alias('total_root_attempts'),\n",
        "     f.sum('num_root').alias('total_root_acceses'))\\\n",
        ".orderBy('total_freq', ascending=False)\\\n",
        ".filter(f.col('mean_duration') > 0)\\\n",
        ".select('service', 'attack_type', 'total_freq')"
      ],
      "execution_count": 51,
      "outputs": []
    },
    {
      "cell_type": "code",
      "metadata": {
        "id": "5q-gcTdgOWJX",
        "outputId": "a198815c-9427-4411-fa17-211e3427d7c0",
        "colab": {
          "base_uri": "https://localhost:8080/",
          "height": 469
        }
      },
      "source": [
        "tcp_attack_stats_spark.show()"
      ],
      "execution_count": 52,
      "outputs": [
        {
          "output_type": "stream",
          "text": [
            "+--------+----------------+----------+\n",
            "| service|     attack_type|total_freq|\n",
            "+--------+----------------+----------+\n",
            "|    http|           back.|      2203|\n",
            "|   other|          satan.|      1221|\n",
            "| private|      portsweep.|       725|\n",
            "|ftp_data|    warezclient.|       708|\n",
            "|     ftp|    warezclient.|       307|\n",
            "|   other|      portsweep.|       260|\n",
            "| private|          satan.|       170|\n",
            "|  telnet|   guess_passwd.|        53|\n",
            "|  telnet|buffer_overflow.|        21|\n",
            "|ftp_data|    warezmaster.|        18|\n",
            "|   imap4|           imap.|        12|\n",
            "|  telnet|        rootkit.|         5|\n",
            "|  telnet|     loadmodule.|         5|\n",
            "|   other|    warezclient.|         5|\n",
            "|    http|            phf.|         4|\n",
            "|  supdup|      portsweep.|         4|\n",
            "|  telnet|           perl.|         3|\n",
            "|   pop_3|      portsweep.|         3|\n",
            "|    http|        ipsweep.|         3|\n",
            "|  gopher|        ipsweep.|         3|\n",
            "+--------+----------------+----------+\n",
            "only showing top 20 rows\n",
            "\n"
          ],
          "name": "stdout"
        }
      ]
    }
  ]
}
