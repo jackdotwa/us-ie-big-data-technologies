{
  "nbformat": 4,
  "nbformat_minor": 0,
  "metadata": {
    "colab": {
      "provenance": [],
      "collapsed_sections": [
        "wgFosi_oJFJb"
      ],
      "toc_visible": true,
      "include_colab_link": true
    },
    "kernelspec": {
      "name": "python3",
      "display_name": "Python 3"
    }
  },
  "cells": [
    {
      "cell_type": "markdown",
      "metadata": {
        "id": "view-in-github",
        "colab_type": "text"
      },
      "source": [
        "<a href=\"https://colab.research.google.com/github/TNN-A/us-ie-big-data-technologies/blob/master/pyspark_structured_api.ipynb\" target=\"_parent\"><img src=\"https://colab.research.google.com/assets/colab-badge.svg\" alt=\"Open In Colab\"/></a>"
      ]
    },
    {
      "cell_type": "markdown",
      "metadata": {
        "id": "nRD4AWvXv3bd"
      },
      "source": [
        "### Welcome to the Colab Spark Tutorial.\n",
        "\n",
        "We will be using Spark a few times in this course, and the _colab_ environment provides the compute (for 12 hours at a time) we need, along with this wonderful web-based notebook.\n",
        "\n",
        "Today we will be configuring PySpark and exploring the SparkSQL features in relation to the Spark API\n",
        "\n",
        "Source material includes [[1](https://opensource.com/article/19/3/apache-spark-and-dataframes-tutorial)]\n",
        "\n",
        "Sections:\n",
        "\n",
        " 1. Configuring your _colab_\n",
        " 2. Using PySpark\n"
      ]
    },
    {
      "cell_type": "markdown",
      "metadata": {
        "id": "dObl4yHR4aRm"
      },
      "source": [
        "Firstly, we need to configure the _colab_ instance"
      ]
    },
    {
      "cell_type": "code",
      "metadata": {
        "id": "Oy0a51RqrDlC",
        "colab": {
          "base_uri": "https://localhost:8080/"
        },
        "outputId": "bf7d7f9b-082a-4e77-9bd4-ed080cab5415"
      },
      "source": [
        "!lsb_release -a"
      ],
      "execution_count": null,
      "outputs": [
        {
          "output_type": "stream",
          "name": "stdout",
          "text": [
            "No LSB modules are available.\n",
            "Distributor ID:\tUbuntu\n",
            "Description:\tUbuntu 22.04.3 LTS\n",
            "Release:\t22.04\n",
            "Codename:\tjammy\n"
          ]
        }
      ]
    },
    {
      "cell_type": "code",
      "metadata": {
        "id": "OX6iQmbtrIvl",
        "colab": {
          "base_uri": "https://localhost:8080/"
        },
        "outputId": "e0fd64a4-7837-4dfb-dd41-b1bab2308c60"
      },
      "source": [
        "!apt-get update"
      ],
      "execution_count": null,
      "outputs": [
        {
          "output_type": "stream",
          "name": "stdout",
          "text": [
            "\r0% [Working]\r            \rGet:1 https://cloud.r-project.org/bin/linux/ubuntu jammy-cran40/ InRelease [3,626 B]\n",
            "Hit:2 https://developer.download.nvidia.com/compute/cuda/repos/ubuntu2204/x86_64  InRelease\n",
            "Hit:3 http://archive.ubuntu.com/ubuntu jammy InRelease\n",
            "Get:4 http://security.ubuntu.com/ubuntu jammy-security InRelease [129 kB]\n",
            "Get:5 http://archive.ubuntu.com/ubuntu jammy-updates InRelease [128 kB]\n",
            "Hit:6 https://ppa.launchpadcontent.net/deadsnakes/ppa/ubuntu jammy InRelease\n",
            "Ign:7 https://r2u.stat.illinois.edu/ubuntu jammy InRelease\n",
            "Hit:8 https://ppa.launchpadcontent.net/graphics-drivers/ppa/ubuntu jammy InRelease\n",
            "Get:9 https://r2u.stat.illinois.edu/ubuntu jammy Release [5,713 B]\n",
            "Hit:10 https://ppa.launchpadcontent.net/ubuntugis/ppa/ubuntu jammy InRelease\n",
            "Get:11 https://r2u.stat.illinois.edu/ubuntu jammy Release.gpg [793 B]\n",
            "Get:12 http://archive.ubuntu.com/ubuntu jammy-backports InRelease [127 kB]\n",
            "Get:13 http://security.ubuntu.com/ubuntu jammy-security/restricted amd64 Packages [3,030 kB]\n",
            "Get:14 http://archive.ubuntu.com/ubuntu jammy-updates/restricted amd64 Packages [3,108 kB]\n",
            "Get:15 https://r2u.stat.illinois.edu/ubuntu jammy/main amd64 Packages [2,576 kB]\n",
            "Get:16 http://archive.ubuntu.com/ubuntu jammy-updates/universe amd64 Packages [1,439 kB]\n",
            "Get:17 http://security.ubuntu.com/ubuntu jammy-security/main amd64 Packages [2,267 kB]\n",
            "Get:18 http://archive.ubuntu.com/ubuntu jammy-updates/main amd64 Packages [2,541 kB]\n",
            "Get:19 http://security.ubuntu.com/ubuntu jammy-security/universe amd64 Packages [1,150 kB]\n",
            "Get:20 https://r2u.stat.illinois.edu/ubuntu jammy/main all Packages [8,311 kB]\n",
            "Fetched 24.8 MB in 5s (5,255 kB/s)\n",
            "Reading package lists... Done\n",
            "W: Skipping acquire of configured file 'main/source/Sources' as repository 'https://r2u.stat.illinois.edu/ubuntu jammy InRelease' does not seem to provide it (sources.list entry misspelt?)\n"
          ]
        }
      ]
    },
    {
      "cell_type": "code",
      "metadata": {
        "id": "Mm6zycFEsLeI"
      },
      "source": [
        "# Install java\n",
        "!apt-get install openjdk-8-jdk-headless -qq > /dev/null\n"
      ],
      "execution_count": null,
      "outputs": []
    },
    {
      "cell_type": "code",
      "metadata": {
        "id": "mAd3j6fJq1Ex",
        "colab": {
          "base_uri": "https://localhost:8080/"
        },
        "outputId": "19d2d423-1135-466a-cfe5-e1bc864bbb3a"
      },
      "source": [
        "# get spark\n",
        "VERSION='3.5.2'\n",
        "!wget https://dlcdn.apache.org/spark/spark-3.5.2/spark-3.5.2-bin-hadoop3.tgz"
      ],
      "execution_count": null,
      "outputs": [
        {
          "output_type": "stream",
          "name": "stdout",
          "text": [
            "--2024-09-13 17:32:09--  https://dlcdn.apache.org/spark/spark-3.5.2/spark-3.5.2-bin-hadoop3.tgz\n",
            "Resolving dlcdn.apache.org (dlcdn.apache.org)... 151.101.2.132, 2a04:4e42::644\n",
            "Connecting to dlcdn.apache.org (dlcdn.apache.org)|151.101.2.132|:443... connected.\n",
            "HTTP request sent, awaiting response... 200 OK\n",
            "Length: 400822099 (382M) [application/x-gzip]\n",
            "Saving to: ‘spark-3.5.2-bin-hadoop3.tgz’\n",
            "\n",
            "spark-3.5.2-bin-had 100%[===================>] 382.25M  37.6MB/s    in 6.0s    \n",
            "\n",
            "2024-09-13 17:32:27 (63.4 MB/s) - ‘spark-3.5.2-bin-hadoop3.tgz’ saved [400822099/400822099]\n",
            "\n"
          ]
        }
      ]
    },
    {
      "cell_type": "code",
      "metadata": {
        "id": "9Wadv8_tsEQw"
      },
      "source": [
        "# decompress spark\n",
        "!tar xf spark-3.5.2-bin-hadoop3.tgz\n",
        "\n",
        "# install python package to help with system paths\n",
        "!pip install -q findspark\n"
      ],
      "execution_count": null,
      "outputs": []
    },
    {
      "cell_type": "code",
      "metadata": {
        "id": "l60O1BJzuf_h"
      },
      "source": [
        "# Let Colab know where the java and spark folders are\n",
        "\n",
        "import os\n",
        "os.environ[\"JAVA_HOME\"] = \"/usr/lib/jvm/java-8-openjdk-amd64\"\n",
        "os.environ[\"SPARK_HOME\"] = f\"/content/spark-3.5.2-bin-hadoop3\""
      ],
      "execution_count": null,
      "outputs": []
    },
    {
      "cell_type": "code",
      "metadata": {
        "id": "lbpi4WDgu_VL"
      },
      "source": [
        "# add pyspark to sys.path using findspark\n",
        "import findspark\n",
        "findspark.init()\n",
        "\n",
        "# get a spark session\n",
        "from pyspark.sql import SparkSession\n",
        "spark = SparkSession.builder.master(\"local[*]\").getOrCreate()"
      ],
      "execution_count": null,
      "outputs": []
    },
    {
      "cell_type": "code",
      "source": [
        "spark"
      ],
      "metadata": {
        "colab": {
          "base_uri": "https://localhost:8080/",
          "height": 216
        },
        "id": "v72B8rx2goTS",
        "outputId": "b70fe6f1-dd34-47de-f82f-92375983fc83"
      },
      "execution_count": null,
      "outputs": [
        {
          "output_type": "execute_result",
          "data": {
            "text/plain": [
              "<pyspark.sql.session.SparkSession at 0x7fa33570f160>"
            ],
            "text/html": [
              "\n",
              "            <div>\n",
              "                <p><b>SparkSession - in-memory</b></p>\n",
              "                \n",
              "        <div>\n",
              "            <p><b>SparkContext</b></p>\n",
              "\n",
              "            <p><a href=\"http://2884466baf04:4040\">Spark UI</a></p>\n",
              "\n",
              "            <dl>\n",
              "              <dt>Version</dt>\n",
              "                <dd><code>v3.5.2</code></dd>\n",
              "              <dt>Master</dt>\n",
              "                <dd><code>local[*]</code></dd>\n",
              "              <dt>AppName</dt>\n",
              "                <dd><code>pyspark-shell</code></dd>\n",
              "            </dl>\n",
              "        </div>\n",
              "        \n",
              "            </div>\n",
              "        "
            ]
          },
          "metadata": {},
          "execution_count": 19
        }
      ]
    },
    {
      "cell_type": "code",
      "source": [
        "# NYC Crash dataset\n",
        "! curl -o rows.csv https://data.cityofnewyork.us/api/views/h9gi-nx95/rows.csv"
      ],
      "metadata": {
        "colab": {
          "base_uri": "https://localhost:8080/"
        },
        "id": "gKI5ewzun5I8",
        "outputId": "666dbbe6-655f-45bd-d636-ab309d2c1119"
      },
      "execution_count": null,
      "outputs": [
        {
          "output_type": "stream",
          "name": "stdout",
          "text": [
            "  % Total    % Received % Xferd  Average Speed   Time    Time     Time  Current\n",
            "                                 Dload  Upload   Total   Spent    Left  Speed\n",
            "100  427M    0  427M    0     0  3962k      0 --:--:--  0:01:50 --:--:-- 2889k\n"
          ]
        }
      ]
    },
    {
      "cell_type": "code",
      "source": [
        "import pandas as pd\n",
        "nyc_df = pd.read_csv('rows.csv')"
      ],
      "metadata": {
        "colab": {
          "base_uri": "https://localhost:8080/"
        },
        "id": "COsyYafBoa0r",
        "outputId": "85fe8ef1-4fb4-4438-d7f7-c93827514fec"
      },
      "execution_count": null,
      "outputs": [
        {
          "output_type": "stream",
          "name": "stderr",
          "text": [
            "<ipython-input-48-a70f860f02a9>:2: DtypeWarning: Columns (3) have mixed types. Specify dtype option on import or set low_memory=False.\n",
            "  nyc_df = pd.read_csv('rows.csv')\n"
          ]
        }
      ]
    },
    {
      "cell_type": "code",
      "source": [
        "# number or rows\n",
        "\n",
        "print(len(nyc_df))\n",
        "\n",
        "# this is quite large so we will work with a sample while we experiment in pandas as least."
      ],
      "metadata": {
        "colab": {
          "base_uri": "https://localhost:8080/"
        },
        "id": "R9F8DKXWq5SO",
        "outputId": "86250130-1121-4e6e-baaf-bafb730e14a2"
      },
      "execution_count": null,
      "outputs": [
        {
          "output_type": "stream",
          "name": "stdout",
          "text": [
            "2118226\n"
          ]
        }
      ]
    },
    {
      "cell_type": "code",
      "source": [
        "nyc_small = nyc_df.sample(frac=0.2, replace=False, random_state=1)"
      ],
      "metadata": {
        "id": "4UWQNkDErI2W"
      },
      "execution_count": null,
      "outputs": []
    },
    {
      "cell_type": "code",
      "source": [
        "# we are also going to limit the columns to those we are going to work with\n",
        "\n",
        "nyc_small = nyc_small[['CRASH DATE', 'CONTRIBUTING FACTOR VEHICLE 1',\n",
        "                       'BOROUGH', 'VEHICLE TYPE CODE 1',\n",
        "                       'NUMBER OF PERSONS INJURED']]"
      ],
      "metadata": {
        "id": "ClBeZv5JtsHz"
      },
      "execution_count": null,
      "outputs": []
    },
    {
      "cell_type": "code",
      "source": [
        "nyc_small.head(2)"
      ],
      "metadata": {
        "colab": {
          "base_uri": "https://localhost:8080/",
          "height": 145
        },
        "id": "zQAy7qb4vqLf",
        "outputId": "513e772c-ab8a-4c59-f28e-a0fb03816d24"
      },
      "execution_count": null,
      "outputs": [
        {
          "output_type": "execute_result",
          "data": {
            "text/plain": [
              "         CRASH DATE CONTRIBUTING FACTOR VEHICLE 1        BOROUGH  \\\n",
              "430841   05/05/2019                  Unsafe Speed  STATEN ISLAND   \n",
              "1779911  04/15/2013       Other Electronic Device         QUEENS   \n",
              "\n",
              "                         VEHICLE TYPE CODE 1  NUMBER OF PERSONS INJURED  \n",
              "430841   Station Wagon/Sport Utility Vehicle                        0.0  \n",
              "1779911                    PASSENGER VEHICLE                        1.0  "
            ],
            "text/html": [
              "\n",
              "  <div id=\"df-a38b756f-55e9-4d7e-bd1c-e6d6cedcaa6e\" class=\"colab-df-container\">\n",
              "    <div>\n",
              "<style scoped>\n",
              "    .dataframe tbody tr th:only-of-type {\n",
              "        vertical-align: middle;\n",
              "    }\n",
              "\n",
              "    .dataframe tbody tr th {\n",
              "        vertical-align: top;\n",
              "    }\n",
              "\n",
              "    .dataframe thead th {\n",
              "        text-align: right;\n",
              "    }\n",
              "</style>\n",
              "<table border=\"1\" class=\"dataframe\">\n",
              "  <thead>\n",
              "    <tr style=\"text-align: right;\">\n",
              "      <th></th>\n",
              "      <th>CRASH DATE</th>\n",
              "      <th>CONTRIBUTING FACTOR VEHICLE 1</th>\n",
              "      <th>BOROUGH</th>\n",
              "      <th>VEHICLE TYPE CODE 1</th>\n",
              "      <th>NUMBER OF PERSONS INJURED</th>\n",
              "    </tr>\n",
              "  </thead>\n",
              "  <tbody>\n",
              "    <tr>\n",
              "      <th>430841</th>\n",
              "      <td>05/05/2019</td>\n",
              "      <td>Unsafe Speed</td>\n",
              "      <td>STATEN ISLAND</td>\n",
              "      <td>Station Wagon/Sport Utility Vehicle</td>\n",
              "      <td>0.0</td>\n",
              "    </tr>\n",
              "    <tr>\n",
              "      <th>1779911</th>\n",
              "      <td>04/15/2013</td>\n",
              "      <td>Other Electronic Device</td>\n",
              "      <td>QUEENS</td>\n",
              "      <td>PASSENGER VEHICLE</td>\n",
              "      <td>1.0</td>\n",
              "    </tr>\n",
              "  </tbody>\n",
              "</table>\n",
              "</div>\n",
              "    <div class=\"colab-df-buttons\">\n",
              "\n",
              "  <div class=\"colab-df-container\">\n",
              "    <button class=\"colab-df-convert\" onclick=\"convertToInteractive('df-a38b756f-55e9-4d7e-bd1c-e6d6cedcaa6e')\"\n",
              "            title=\"Convert this dataframe to an interactive table.\"\n",
              "            style=\"display:none;\">\n",
              "\n",
              "  <svg xmlns=\"http://www.w3.org/2000/svg\" height=\"24px\" viewBox=\"0 -960 960 960\">\n",
              "    <path d=\"M120-120v-720h720v720H120Zm60-500h600v-160H180v160Zm220 220h160v-160H400v160Zm0 220h160v-160H400v160ZM180-400h160v-160H180v160Zm440 0h160v-160H620v160ZM180-180h160v-160H180v160Zm440 0h160v-160H620v160Z\"/>\n",
              "  </svg>\n",
              "    </button>\n",
              "\n",
              "  <style>\n",
              "    .colab-df-container {\n",
              "      display:flex;\n",
              "      gap: 12px;\n",
              "    }\n",
              "\n",
              "    .colab-df-convert {\n",
              "      background-color: #E8F0FE;\n",
              "      border: none;\n",
              "      border-radius: 50%;\n",
              "      cursor: pointer;\n",
              "      display: none;\n",
              "      fill: #1967D2;\n",
              "      height: 32px;\n",
              "      padding: 0 0 0 0;\n",
              "      width: 32px;\n",
              "    }\n",
              "\n",
              "    .colab-df-convert:hover {\n",
              "      background-color: #E2EBFA;\n",
              "      box-shadow: 0px 1px 2px rgba(60, 64, 67, 0.3), 0px 1px 3px 1px rgba(60, 64, 67, 0.15);\n",
              "      fill: #174EA6;\n",
              "    }\n",
              "\n",
              "    .colab-df-buttons div {\n",
              "      margin-bottom: 4px;\n",
              "    }\n",
              "\n",
              "    [theme=dark] .colab-df-convert {\n",
              "      background-color: #3B4455;\n",
              "      fill: #D2E3FC;\n",
              "    }\n",
              "\n",
              "    [theme=dark] .colab-df-convert:hover {\n",
              "      background-color: #434B5C;\n",
              "      box-shadow: 0px 1px 3px 1px rgba(0, 0, 0, 0.15);\n",
              "      filter: drop-shadow(0px 1px 2px rgba(0, 0, 0, 0.3));\n",
              "      fill: #FFFFFF;\n",
              "    }\n",
              "  </style>\n",
              "\n",
              "    <script>\n",
              "      const buttonEl =\n",
              "        document.querySelector('#df-a38b756f-55e9-4d7e-bd1c-e6d6cedcaa6e button.colab-df-convert');\n",
              "      buttonEl.style.display =\n",
              "        google.colab.kernel.accessAllowed ? 'block' : 'none';\n",
              "\n",
              "      async function convertToInteractive(key) {\n",
              "        const element = document.querySelector('#df-a38b756f-55e9-4d7e-bd1c-e6d6cedcaa6e');\n",
              "        const dataTable =\n",
              "          await google.colab.kernel.invokeFunction('convertToInteractive',\n",
              "                                                    [key], {});\n",
              "        if (!dataTable) return;\n",
              "\n",
              "        const docLinkHtml = 'Like what you see? Visit the ' +\n",
              "          '<a target=\"_blank\" href=https://colab.research.google.com/notebooks/data_table.ipynb>data table notebook</a>'\n",
              "          + ' to learn more about interactive tables.';\n",
              "        element.innerHTML = '';\n",
              "        dataTable['output_type'] = 'display_data';\n",
              "        await google.colab.output.renderOutput(dataTable, element);\n",
              "        const docLink = document.createElement('div');\n",
              "        docLink.innerHTML = docLinkHtml;\n",
              "        element.appendChild(docLink);\n",
              "      }\n",
              "    </script>\n",
              "  </div>\n",
              "\n",
              "\n",
              "<div id=\"df-5fdaa826-5760-4fb1-8deb-4b3417486a68\">\n",
              "  <button class=\"colab-df-quickchart\" onclick=\"quickchart('df-5fdaa826-5760-4fb1-8deb-4b3417486a68')\"\n",
              "            title=\"Suggest charts\"\n",
              "            style=\"display:none;\">\n",
              "\n",
              "<svg xmlns=\"http://www.w3.org/2000/svg\" height=\"24px\"viewBox=\"0 0 24 24\"\n",
              "     width=\"24px\">\n",
              "    <g>\n",
              "        <path d=\"M19 3H5c-1.1 0-2 .9-2 2v14c0 1.1.9 2 2 2h14c1.1 0 2-.9 2-2V5c0-1.1-.9-2-2-2zM9 17H7v-7h2v7zm4 0h-2V7h2v10zm4 0h-2v-4h2v4z\"/>\n",
              "    </g>\n",
              "</svg>\n",
              "  </button>\n",
              "\n",
              "<style>\n",
              "  .colab-df-quickchart {\n",
              "      --bg-color: #E8F0FE;\n",
              "      --fill-color: #1967D2;\n",
              "      --hover-bg-color: #E2EBFA;\n",
              "      --hover-fill-color: #174EA6;\n",
              "      --disabled-fill-color: #AAA;\n",
              "      --disabled-bg-color: #DDD;\n",
              "  }\n",
              "\n",
              "  [theme=dark] .colab-df-quickchart {\n",
              "      --bg-color: #3B4455;\n",
              "      --fill-color: #D2E3FC;\n",
              "      --hover-bg-color: #434B5C;\n",
              "      --hover-fill-color: #FFFFFF;\n",
              "      --disabled-bg-color: #3B4455;\n",
              "      --disabled-fill-color: #666;\n",
              "  }\n",
              "\n",
              "  .colab-df-quickchart {\n",
              "    background-color: var(--bg-color);\n",
              "    border: none;\n",
              "    border-radius: 50%;\n",
              "    cursor: pointer;\n",
              "    display: none;\n",
              "    fill: var(--fill-color);\n",
              "    height: 32px;\n",
              "    padding: 0;\n",
              "    width: 32px;\n",
              "  }\n",
              "\n",
              "  .colab-df-quickchart:hover {\n",
              "    background-color: var(--hover-bg-color);\n",
              "    box-shadow: 0 1px 2px rgba(60, 64, 67, 0.3), 0 1px 3px 1px rgba(60, 64, 67, 0.15);\n",
              "    fill: var(--button-hover-fill-color);\n",
              "  }\n",
              "\n",
              "  .colab-df-quickchart-complete:disabled,\n",
              "  .colab-df-quickchart-complete:disabled:hover {\n",
              "    background-color: var(--disabled-bg-color);\n",
              "    fill: var(--disabled-fill-color);\n",
              "    box-shadow: none;\n",
              "  }\n",
              "\n",
              "  .colab-df-spinner {\n",
              "    border: 2px solid var(--fill-color);\n",
              "    border-color: transparent;\n",
              "    border-bottom-color: var(--fill-color);\n",
              "    animation:\n",
              "      spin 1s steps(1) infinite;\n",
              "  }\n",
              "\n",
              "  @keyframes spin {\n",
              "    0% {\n",
              "      border-color: transparent;\n",
              "      border-bottom-color: var(--fill-color);\n",
              "      border-left-color: var(--fill-color);\n",
              "    }\n",
              "    20% {\n",
              "      border-color: transparent;\n",
              "      border-left-color: var(--fill-color);\n",
              "      border-top-color: var(--fill-color);\n",
              "    }\n",
              "    30% {\n",
              "      border-color: transparent;\n",
              "      border-left-color: var(--fill-color);\n",
              "      border-top-color: var(--fill-color);\n",
              "      border-right-color: var(--fill-color);\n",
              "    }\n",
              "    40% {\n",
              "      border-color: transparent;\n",
              "      border-right-color: var(--fill-color);\n",
              "      border-top-color: var(--fill-color);\n",
              "    }\n",
              "    60% {\n",
              "      border-color: transparent;\n",
              "      border-right-color: var(--fill-color);\n",
              "    }\n",
              "    80% {\n",
              "      border-color: transparent;\n",
              "      border-right-color: var(--fill-color);\n",
              "      border-bottom-color: var(--fill-color);\n",
              "    }\n",
              "    90% {\n",
              "      border-color: transparent;\n",
              "      border-bottom-color: var(--fill-color);\n",
              "    }\n",
              "  }\n",
              "</style>\n",
              "\n",
              "  <script>\n",
              "    async function quickchart(key) {\n",
              "      const quickchartButtonEl =\n",
              "        document.querySelector('#' + key + ' button');\n",
              "      quickchartButtonEl.disabled = true;  // To prevent multiple clicks.\n",
              "      quickchartButtonEl.classList.add('colab-df-spinner');\n",
              "      try {\n",
              "        const charts = await google.colab.kernel.invokeFunction(\n",
              "            'suggestCharts', [key], {});\n",
              "      } catch (error) {\n",
              "        console.error('Error during call to suggestCharts:', error);\n",
              "      }\n",
              "      quickchartButtonEl.classList.remove('colab-df-spinner');\n",
              "      quickchartButtonEl.classList.add('colab-df-quickchart-complete');\n",
              "    }\n",
              "    (() => {\n",
              "      let quickchartButtonEl =\n",
              "        document.querySelector('#df-5fdaa826-5760-4fb1-8deb-4b3417486a68 button');\n",
              "      quickchartButtonEl.style.display =\n",
              "        google.colab.kernel.accessAllowed ? 'block' : 'none';\n",
              "    })();\n",
              "  </script>\n",
              "</div>\n",
              "\n",
              "    </div>\n",
              "  </div>\n"
            ],
            "application/vnd.google.colaboratory.intrinsic+json": {
              "type": "dataframe",
              "variable_name": "nyc_small"
            }
          },
          "metadata": {},
          "execution_count": 56
        }
      ]
    },
    {
      "cell_type": "markdown",
      "metadata": {
        "id": "87le9nge8TLK"
      },
      "source": [
        "Let's download some url data (\"Anonymized 120-day subset of the ICML-09 URL data containing 2.4 million examples and 3.2 million features\" [UCI](https://archive.ics.uci.edu/ml/datasets/URL+Reputation)"
      ]
    },
    {
      "cell_type": "code",
      "metadata": {
        "id": "W6SHTRfC6pFS",
        "colab": {
          "base_uri": "https://localhost:8080/"
        },
        "outputId": "e49db91f-2feb-46be-abdf-c846f0fc28cf"
      },
      "source": [
        "! wget http://kdd.ics.uci.edu/databases/kddcup99/kddcup.data_10_percent.gz\n",
        "! wget http://kdd.ics.uci.edu/databases/kddcup99/kddcup.names"
      ],
      "execution_count": null,
      "outputs": [
        {
          "output_type": "stream",
          "name": "stdout",
          "text": [
            "--2024-09-13 18:03:18--  http://kdd.ics.uci.edu/databases/kddcup99/kddcup.data_10_percent.gz\n",
            "Resolving kdd.ics.uci.edu (kdd.ics.uci.edu)... 128.195.1.86\n",
            "Connecting to kdd.ics.uci.edu (kdd.ics.uci.edu)|128.195.1.86|:80... connected.\n",
            "HTTP request sent, awaiting response... 200 OK\n",
            "Length: 2144903 (2.0M) [application/x-gzip]\n",
            "Saving to: ‘kddcup.data_10_percent.gz’\n",
            "\n",
            "kddcup.data_10_perc 100%[===================>]   2.04M  1.93MB/s    in 1.1s    \n",
            "\n",
            "2024-09-13 18:03:20 (1.93 MB/s) - ‘kddcup.data_10_percent.gz’ saved [2144903/2144903]\n",
            "\n",
            "--2024-09-13 18:03:20--  http://kdd.ics.uci.edu/databases/kddcup99/kddcup.names\n",
            "Resolving kdd.ics.uci.edu (kdd.ics.uci.edu)... 128.195.1.86\n",
            "Connecting to kdd.ics.uci.edu (kdd.ics.uci.edu)|128.195.1.86|:80... connected.\n",
            "HTTP request sent, awaiting response... 200 OK\n",
            "Length: 1307 (1.3K)\n",
            "Saving to: ‘kddcup.names’\n",
            "\n",
            "kddcup.names        100%[===================>]   1.28K  --.-KB/s    in 0s      \n",
            "\n",
            "2024-09-13 18:03:20 (137 MB/s) - ‘kddcup.names’ saved [1307/1307]\n",
            "\n"
          ]
        }
      ]
    },
    {
      "cell_type": "code",
      "metadata": {
        "id": "EbToU3UA6q_o"
      },
      "source": [
        "!gunzip kddcup.data_10_percent.gz"
      ],
      "execution_count": null,
      "outputs": []
    },
    {
      "cell_type": "code",
      "metadata": {
        "id": "gAr0nnqG6u8v"
      },
      "source": [
        "import pandas as pd\n",
        "df = pd.read_csv('kddcup.data_10_percent', header=None)"
      ],
      "execution_count": null,
      "outputs": []
    },
    {
      "cell_type": "code",
      "metadata": {
        "id": "dLdspkQ1844Q",
        "colab": {
          "base_uri": "https://localhost:8080/",
          "height": 484
        },
        "outputId": "711b0441-620e-492a-86f9-eabb3edcdad6"
      },
      "source": [
        "df[2].value_counts()"
      ],
      "execution_count": null,
      "outputs": [
        {
          "output_type": "execute_result",
          "data": {
            "text/plain": [
              "2\n",
              "ecr_i      281400\n",
              "private    110893\n",
              "http        64293\n",
              "smtp         9723\n",
              "other        7237\n",
              "            ...  \n",
              "X11            11\n",
              "tim_i           7\n",
              "pm_dump         1\n",
              "tftp_u          1\n",
              "red_i           1\n",
              "Name: count, Length: 66, dtype: int64"
            ],
            "text/html": [
              "<div>\n",
              "<style scoped>\n",
              "    .dataframe tbody tr th:only-of-type {\n",
              "        vertical-align: middle;\n",
              "    }\n",
              "\n",
              "    .dataframe tbody tr th {\n",
              "        vertical-align: top;\n",
              "    }\n",
              "\n",
              "    .dataframe thead th {\n",
              "        text-align: right;\n",
              "    }\n",
              "</style>\n",
              "<table border=\"1\" class=\"dataframe\">\n",
              "  <thead>\n",
              "    <tr style=\"text-align: right;\">\n",
              "      <th></th>\n",
              "      <th>count</th>\n",
              "    </tr>\n",
              "    <tr>\n",
              "      <th>2</th>\n",
              "      <th></th>\n",
              "    </tr>\n",
              "  </thead>\n",
              "  <tbody>\n",
              "    <tr>\n",
              "      <th>ecr_i</th>\n",
              "      <td>281400</td>\n",
              "    </tr>\n",
              "    <tr>\n",
              "      <th>private</th>\n",
              "      <td>110893</td>\n",
              "    </tr>\n",
              "    <tr>\n",
              "      <th>http</th>\n",
              "      <td>64293</td>\n",
              "    </tr>\n",
              "    <tr>\n",
              "      <th>smtp</th>\n",
              "      <td>9723</td>\n",
              "    </tr>\n",
              "    <tr>\n",
              "      <th>other</th>\n",
              "      <td>7237</td>\n",
              "    </tr>\n",
              "    <tr>\n",
              "      <th>...</th>\n",
              "      <td>...</td>\n",
              "    </tr>\n",
              "    <tr>\n",
              "      <th>X11</th>\n",
              "      <td>11</td>\n",
              "    </tr>\n",
              "    <tr>\n",
              "      <th>tim_i</th>\n",
              "      <td>7</td>\n",
              "    </tr>\n",
              "    <tr>\n",
              "      <th>pm_dump</th>\n",
              "      <td>1</td>\n",
              "    </tr>\n",
              "    <tr>\n",
              "      <th>tftp_u</th>\n",
              "      <td>1</td>\n",
              "    </tr>\n",
              "    <tr>\n",
              "      <th>red_i</th>\n",
              "      <td>1</td>\n",
              "    </tr>\n",
              "  </tbody>\n",
              "</table>\n",
              "<p>66 rows × 1 columns</p>\n",
              "</div><br><label><b>dtype:</b> int64</label>"
            ]
          },
          "metadata": {},
          "execution_count": 23
        }
      ]
    },
    {
      "cell_type": "code",
      "source": [
        "from pyspark.sql import SQLContext\n",
        "\n",
        "\n",
        "# there are nan's in the frame with strings, and spark can't 'infer the schema', so we have to help it out\n",
        "# by replacing them with empty strings and forcing the column to be a string\n",
        "\n",
        "sdf_small = SQLContext(spark).createDataFrame(nyc_small.fillna('').astype('str'))\n"
      ],
      "metadata": {
        "colab": {
          "base_uri": "https://localhost:8080/"
        },
        "id": "LM--jdiyw6lD",
        "outputId": "ac606716-6408-4393-d7d5-6c7cb02da382"
      },
      "execution_count": null,
      "outputs": [
        {
          "output_type": "stream",
          "name": "stderr",
          "text": [
            "/content/spark-3.5.2-bin-hadoop3/python/pyspark/sql/context.py:113: FutureWarning: Deprecated in 3.0.0. Use SparkSession.builder.getOrCreate() instead.\n",
            "  warnings.warn(\n"
          ]
        }
      ]
    },
    {
      "cell_type": "code",
      "metadata": {
        "id": "BeHGThDKAZpc",
        "colab": {
          "base_uri": "https://localhost:8080/"
        },
        "outputId": "6fc6fb3e-4af8-46be-bf03-3cf2792068cd"
      },
      "source": [
        "raw_rdd = spark.sparkContext.textFile('kddcup.data_10_percent').cache()\n",
        "raw_rdd.take(5)"
      ],
      "execution_count": null,
      "outputs": [
        {
          "output_type": "execute_result",
          "data": {
            "text/plain": [
              "['0,tcp,http,SF,181,5450,0,0,0,0,0,1,0,0,0,0,0,0,0,0,0,0,8,8,0.00,0.00,0.00,0.00,1.00,0.00,0.00,9,9,1.00,0.00,0.11,0.00,0.00,0.00,0.00,0.00,normal.',\n",
              " '0,tcp,http,SF,239,486,0,0,0,0,0,1,0,0,0,0,0,0,0,0,0,0,8,8,0.00,0.00,0.00,0.00,1.00,0.00,0.00,19,19,1.00,0.00,0.05,0.00,0.00,0.00,0.00,0.00,normal.',\n",
              " '0,tcp,http,SF,235,1337,0,0,0,0,0,1,0,0,0,0,0,0,0,0,0,0,8,8,0.00,0.00,0.00,0.00,1.00,0.00,0.00,29,29,1.00,0.00,0.03,0.00,0.00,0.00,0.00,0.00,normal.',\n",
              " '0,tcp,http,SF,219,1337,0,0,0,0,0,1,0,0,0,0,0,0,0,0,0,0,6,6,0.00,0.00,0.00,0.00,1.00,0.00,0.00,39,39,1.00,0.00,0.03,0.00,0.00,0.00,0.00,0.00,normal.',\n",
              " '0,tcp,http,SF,217,2032,0,0,0,0,0,1,0,0,0,0,0,0,0,0,0,0,6,6,0.00,0.00,0.00,0.00,1.00,0.00,0.00,49,49,1.00,0.00,0.02,0.00,0.00,0.00,0.00,0.00,normal.']"
            ]
          },
          "metadata": {},
          "execution_count": 24
        }
      ]
    },
    {
      "cell_type": "markdown",
      "source": [],
      "metadata": {
        "id": "i4D-P-4z0FNy"
      }
    },
    {
      "cell_type": "code",
      "source": [
        "print(sdf_small.schema)"
      ],
      "metadata": {
        "colab": {
          "base_uri": "https://localhost:8080/"
        },
        "id": "Y2kwHa__0ERs",
        "outputId": "7a01965e-9d9f-499c-c0a5-dc0515f93076"
      },
      "execution_count": null,
      "outputs": [
        {
          "output_type": "stream",
          "name": "stdout",
          "text": [
            "StructType([StructField('CRASH DATE', StringType(), True), StructField('CONTRIBUTING FACTOR VEHICLE 1', StringType(), True), StructField('BOROUGH', StringType(), True), StructField('VEHICLE TYPE CODE 1', StringType(), True), StructField('NUMBER OF PERSONS INJURED', StringType(), True)])\n"
          ]
        }
      ]
    },
    {
      "cell_type": "code",
      "source": [
        "# Pandas\n",
        "nyc_small.groupby('CRASH DATE')['CRASH DATE'].count().sort_values(ascending=False).head(5)"
      ],
      "metadata": {
        "colab": {
          "base_uri": "https://localhost:8080/",
          "height": 269
        },
        "id": "-wUt64WM0kh3",
        "outputId": "641d9a8b-1afb-4f09-cd09-b2b7a033106a"
      },
      "execution_count": null,
      "outputs": [
        {
          "output_type": "execute_result",
          "data": {
            "text/plain": [
              "CRASH DATE\n",
              "01/21/2014    246\n",
              "02/03/2014    212\n",
              "01/18/2015    209\n",
              "05/19/2017    199\n",
              "12/15/2017    198\n",
              "Name: CRASH DATE, dtype: int64"
            ],
            "text/html": [
              "<div>\n",
              "<style scoped>\n",
              "    .dataframe tbody tr th:only-of-type {\n",
              "        vertical-align: middle;\n",
              "    }\n",
              "\n",
              "    .dataframe tbody tr th {\n",
              "        vertical-align: top;\n",
              "    }\n",
              "\n",
              "    .dataframe thead th {\n",
              "        text-align: right;\n",
              "    }\n",
              "</style>\n",
              "<table border=\"1\" class=\"dataframe\">\n",
              "  <thead>\n",
              "    <tr style=\"text-align: right;\">\n",
              "      <th></th>\n",
              "      <th>CRASH DATE</th>\n",
              "    </tr>\n",
              "    <tr>\n",
              "      <th>CRASH DATE</th>\n",
              "      <th></th>\n",
              "    </tr>\n",
              "  </thead>\n",
              "  <tbody>\n",
              "    <tr>\n",
              "      <th>01/21/2014</th>\n",
              "      <td>246</td>\n",
              "    </tr>\n",
              "    <tr>\n",
              "      <th>02/03/2014</th>\n",
              "      <td>212</td>\n",
              "    </tr>\n",
              "    <tr>\n",
              "      <th>01/18/2015</th>\n",
              "      <td>209</td>\n",
              "    </tr>\n",
              "    <tr>\n",
              "      <th>05/19/2017</th>\n",
              "      <td>199</td>\n",
              "    </tr>\n",
              "    <tr>\n",
              "      <th>12/15/2017</th>\n",
              "      <td>198</td>\n",
              "    </tr>\n",
              "  </tbody>\n",
              "</table>\n",
              "</div><br><label><b>dtype:</b> int64</label>"
            ]
          },
          "metadata": {},
          "execution_count": 68
        }
      ]
    },
    {
      "cell_type": "code",
      "source": [
        "#spark\n",
        "sdf_small.groupBy('CRASH DATE').count().orderBy('count', ascending=False).show(5)"
      ],
      "metadata": {
        "colab": {
          "base_uri": "https://localhost:8080/"
        },
        "id": "E6h1YXNB05oL",
        "outputId": "b1d9b7eb-b694-4275-fba1-92a5864247b4"
      },
      "execution_count": null,
      "outputs": [
        {
          "output_type": "stream",
          "name": "stdout",
          "text": [
            "+----------+-----+\n",
            "|CRASH DATE|count|\n",
            "+----------+-----+\n",
            "|01/21/2014|  246|\n",
            "|02/03/2014|  212|\n",
            "|01/18/2015|  209|\n",
            "|05/19/2017|  199|\n",
            "|11/15/2018|  198|\n",
            "+----------+-----+\n",
            "only showing top 5 rows\n",
            "\n"
          ]
        }
      ]
    },
    {
      "cell_type": "code",
      "source": [
        "#pandas\n",
        "nyc_small.groupby('BOROUGH')['BOROUGH'].count().sort_values(ascending=False).head(5)"
      ],
      "metadata": {
        "colab": {
          "base_uri": "https://localhost:8080/",
          "height": 269
        },
        "id": "V5BMazZR34wp",
        "outputId": "a37bbbd9-32ac-4d7e-9ee3-124787bfbf11"
      },
      "execution_count": null,
      "outputs": [
        {
          "output_type": "execute_result",
          "data": {
            "text/plain": [
              "BOROUGH\n",
              "BROOKLYN         92818\n",
              "QUEENS           78333\n",
              "MANHATTAN        65046\n",
              "BRONX            43378\n",
              "STATEN ISLAND    12270\n",
              "Name: BOROUGH, dtype: int64"
            ],
            "text/html": [
              "<div>\n",
              "<style scoped>\n",
              "    .dataframe tbody tr th:only-of-type {\n",
              "        vertical-align: middle;\n",
              "    }\n",
              "\n",
              "    .dataframe tbody tr th {\n",
              "        vertical-align: top;\n",
              "    }\n",
              "\n",
              "    .dataframe thead th {\n",
              "        text-align: right;\n",
              "    }\n",
              "</style>\n",
              "<table border=\"1\" class=\"dataframe\">\n",
              "  <thead>\n",
              "    <tr style=\"text-align: right;\">\n",
              "      <th></th>\n",
              "      <th>BOROUGH</th>\n",
              "    </tr>\n",
              "    <tr>\n",
              "      <th>BOROUGH</th>\n",
              "      <th></th>\n",
              "    </tr>\n",
              "  </thead>\n",
              "  <tbody>\n",
              "    <tr>\n",
              "      <th>BROOKLYN</th>\n",
              "      <td>92818</td>\n",
              "    </tr>\n",
              "    <tr>\n",
              "      <th>QUEENS</th>\n",
              "      <td>78333</td>\n",
              "    </tr>\n",
              "    <tr>\n",
              "      <th>MANHATTAN</th>\n",
              "      <td>65046</td>\n",
              "    </tr>\n",
              "    <tr>\n",
              "      <th>BRONX</th>\n",
              "      <td>43378</td>\n",
              "    </tr>\n",
              "    <tr>\n",
              "      <th>STATEN ISLAND</th>\n",
              "      <td>12270</td>\n",
              "    </tr>\n",
              "  </tbody>\n",
              "</table>\n",
              "</div><br><label><b>dtype:</b> int64</label>"
            ]
          },
          "metadata": {},
          "execution_count": 71
        }
      ]
    },
    {
      "cell_type": "code",
      "source": [
        "#spark\n",
        "sdf_small.groupBy('BOROUGH').count().orderBy('count', ascending=False).show(5)"
      ],
      "metadata": {
        "colab": {
          "base_uri": "https://localhost:8080/"
        },
        "id": "yiwxh_VA4LtJ",
        "outputId": "bb607536-6ff7-4213-8007-4a17ae8877f9"
      },
      "execution_count": null,
      "outputs": [
        {
          "output_type": "stream",
          "name": "stdout",
          "text": [
            "+---------+------+\n",
            "|  BOROUGH| count|\n",
            "+---------+------+\n",
            "|         |131800|\n",
            "| BROOKLYN| 92818|\n",
            "|   QUEENS| 78333|\n",
            "|MANHATTAN| 65046|\n",
            "|    BRONX| 43378|\n",
            "+---------+------+\n",
            "only showing top 5 rows\n",
            "\n"
          ]
        }
      ]
    },
    {
      "cell_type": "code",
      "source": [
        "#pandas\n",
        "\n",
        "nyc_small[(nyc_small.BOROUGH == 'QUEENS')]['CONTRIBUTING FACTOR VEHICLE 1'].value_counts()\n",
        "\n",
        "# you can also use a group by (to avoid the pandas value_counts function)\n",
        "\n",
        "nyc_small[(nyc_small.BOROUGH == 'QUEENS')].groupby(\n",
        "    'CONTRIBUTING FACTOR VEHICLE 1'\n",
        ")['CONTRIBUTING FACTOR VEHICLE 1'].count().sort_values(ascending=False).head(5)"
      ],
      "metadata": {
        "colab": {
          "base_uri": "https://localhost:8080/",
          "height": 269
        },
        "id": "7eAbSWNA6hyA",
        "outputId": "a6c28595-57e9-411e-b27e-f5b5b4f24f2a"
      },
      "execution_count": null,
      "outputs": [
        {
          "output_type": "execute_result",
          "data": {
            "text/plain": [
              "CONTRIBUTING FACTOR VEHICLE 1\n",
              "Unspecified                       27394\n",
              "Driver Inattention/Distraction    16605\n",
              "Failure to Yield Right-of-Way      6682\n",
              "Backing Unsafely                   3853\n",
              "Following Too Closely              2804\n",
              "Name: CONTRIBUTING FACTOR VEHICLE 1, dtype: int64"
            ],
            "text/html": [
              "<div>\n",
              "<style scoped>\n",
              "    .dataframe tbody tr th:only-of-type {\n",
              "        vertical-align: middle;\n",
              "    }\n",
              "\n",
              "    .dataframe tbody tr th {\n",
              "        vertical-align: top;\n",
              "    }\n",
              "\n",
              "    .dataframe thead th {\n",
              "        text-align: right;\n",
              "    }\n",
              "</style>\n",
              "<table border=\"1\" class=\"dataframe\">\n",
              "  <thead>\n",
              "    <tr style=\"text-align: right;\">\n",
              "      <th></th>\n",
              "      <th>CONTRIBUTING FACTOR VEHICLE 1</th>\n",
              "    </tr>\n",
              "    <tr>\n",
              "      <th>CONTRIBUTING FACTOR VEHICLE 1</th>\n",
              "      <th></th>\n",
              "    </tr>\n",
              "  </thead>\n",
              "  <tbody>\n",
              "    <tr>\n",
              "      <th>Unspecified</th>\n",
              "      <td>27394</td>\n",
              "    </tr>\n",
              "    <tr>\n",
              "      <th>Driver Inattention/Distraction</th>\n",
              "      <td>16605</td>\n",
              "    </tr>\n",
              "    <tr>\n",
              "      <th>Failure to Yield Right-of-Way</th>\n",
              "      <td>6682</td>\n",
              "    </tr>\n",
              "    <tr>\n",
              "      <th>Backing Unsafely</th>\n",
              "      <td>3853</td>\n",
              "    </tr>\n",
              "    <tr>\n",
              "      <th>Following Too Closely</th>\n",
              "      <td>2804</td>\n",
              "    </tr>\n",
              "  </tbody>\n",
              "</table>\n",
              "</div><br><label><b>dtype:</b> int64</label>"
            ]
          },
          "metadata": {},
          "execution_count": 75
        }
      ]
    },
    {
      "cell_type": "code",
      "source": [
        "##spark\n",
        "\n",
        "sdf_small.filter(sdf_small.BOROUGH == 'QUEENS').groupBy('CONTRIBUTING FACTOR VEHICLE 1').count().orderBy('count', ascending=False).show(5)"
      ],
      "metadata": {
        "colab": {
          "base_uri": "https://localhost:8080/"
        },
        "id": "R-XPVjVq6slX",
        "outputId": "cde2c482-6eac-4a57-84da-50ac7852f1e5"
      },
      "execution_count": null,
      "outputs": [
        {
          "output_type": "stream",
          "name": "stdout",
          "text": [
            "+-----------------------------+-----+\n",
            "|CONTRIBUTING FACTOR VEHICLE 1|count|\n",
            "+-----------------------------+-----+\n",
            "|                  Unspecified|27394|\n",
            "|         Driver Inattentio...|16605|\n",
            "|         Failure to Yield ...| 6682|\n",
            "|             Backing Unsafely| 3853|\n",
            "|         Following Too Clo...| 2804|\n",
            "+-----------------------------+-----+\n",
            "only showing top 5 rows\n",
            "\n"
          ]
        }
      ]
    },
    {
      "cell_type": "code",
      "source": [
        "#pandas\n",
        "\n",
        "nyc_small.groupby(['VEHICLE TYPE CODE 1', 'BOROUGH'])['NUMBER OF PERSONS INJURED'].mean().sort_values(ascending=False).head(3)"
      ],
      "metadata": {
        "colab": {
          "base_uri": "https://localhost:8080/",
          "height": 207
        },
        "id": "esRcUe9b7t18",
        "outputId": "32600f72-fd6b-4c4a-f516-a061cbffd2ba"
      },
      "execution_count": null,
      "outputs": [
        {
          "output_type": "execute_result",
          "data": {
            "text/plain": [
              "VEHICLE TYPE CODE 1  BOROUGH \n",
              "bobct                BROOKLYN    5.0\n",
              "PICKUP               BRONX       4.0\n",
              "BACKH                QUEENS      4.0\n",
              "Name: NUMBER OF PERSONS INJURED, dtype: float64"
            ],
            "text/html": [
              "<div>\n",
              "<style scoped>\n",
              "    .dataframe tbody tr th:only-of-type {\n",
              "        vertical-align: middle;\n",
              "    }\n",
              "\n",
              "    .dataframe tbody tr th {\n",
              "        vertical-align: top;\n",
              "    }\n",
              "\n",
              "    .dataframe thead th {\n",
              "        text-align: right;\n",
              "    }\n",
              "</style>\n",
              "<table border=\"1\" class=\"dataframe\">\n",
              "  <thead>\n",
              "    <tr style=\"text-align: right;\">\n",
              "      <th></th>\n",
              "      <th></th>\n",
              "      <th>NUMBER OF PERSONS INJURED</th>\n",
              "    </tr>\n",
              "    <tr>\n",
              "      <th>VEHICLE TYPE CODE 1</th>\n",
              "      <th>BOROUGH</th>\n",
              "      <th></th>\n",
              "    </tr>\n",
              "  </thead>\n",
              "  <tbody>\n",
              "    <tr>\n",
              "      <th>bobct</th>\n",
              "      <th>BROOKLYN</th>\n",
              "      <td>5.0</td>\n",
              "    </tr>\n",
              "    <tr>\n",
              "      <th>PICKUP</th>\n",
              "      <th>BRONX</th>\n",
              "      <td>4.0</td>\n",
              "    </tr>\n",
              "    <tr>\n",
              "      <th>BACKH</th>\n",
              "      <th>QUEENS</th>\n",
              "      <td>4.0</td>\n",
              "    </tr>\n",
              "  </tbody>\n",
              "</table>\n",
              "</div><br><label><b>dtype:</b> float64</label>"
            ]
          },
          "metadata": {},
          "execution_count": 77
        }
      ]
    },
    {
      "cell_type": "code",
      "source": [
        "#spark\n",
        "\n",
        "\n",
        "sdf_small.groupBy('VEHICLE TYPE CODE 1', 'BOROUGH').agg({'NUMBER OF PERSONS INJURED': 'mean'}).orderBy('avg(NUMBER OF PERSONS INJURED)', ascending=False).show(10)\n"
      ],
      "metadata": {
        "colab": {
          "base_uri": "https://localhost:8080/"
        },
        "id": "QXY4Q3ax78V3",
        "outputId": "3c452ea9-3279-4a1d-aa92-30a3f2ed4051"
      },
      "execution_count": null,
      "outputs": [
        {
          "output_type": "stream",
          "name": "stdout",
          "text": [
            "+-------------------+---------+------------------------------+\n",
            "|VEHICLE TYPE CODE 1|  BOROUGH|avg(NUMBER OF PERSONS INJURED)|\n",
            "+-------------------+---------+------------------------------+\n",
            "|         School bus|         |                           6.0|\n",
            "|            mta bus|         |                           6.0|\n",
            "|         DELIVERY T|         |                           6.0|\n",
            "|              bobct| BROOKLYN|                           5.0|\n",
            "|                amb|MANHATTAN|                           4.0|\n",
            "|              BACKH|   QUEENS|                           4.0|\n",
            "|             PICKUP|    BRONX|                           4.0|\n",
            "|         FDNY LADDE|    BRONX|                           3.0|\n",
            "|              HEAVY|         |                           3.0|\n",
            "|             U-Haul|         |                           3.0|\n",
            "+-------------------+---------+------------------------------+\n",
            "only showing top 10 rows\n",
            "\n"
          ]
        }
      ]
    },
    {
      "cell_type": "code",
      "metadata": {
        "id": "ZMHP2KnWA0W-",
        "colab": {
          "base_uri": "https://localhost:8080/"
        },
        "outputId": "9297ffd9-31a9-4602-b284-6c7781762026"
      },
      "source": [
        "csv_rdd = raw_rdd.map(lambda row: row.split(\",\"))\n",
        "print(csv_rdd.take(2))\n",
        "print(type(csv_rdd))"
      ],
      "execution_count": null,
      "outputs": [
        {
          "output_type": "stream",
          "name": "stdout",
          "text": [
            "[['0', 'tcp', 'http', 'SF', '181', '5450', '0', '0', '0', '0', '0', '1', '0', '0', '0', '0', '0', '0', '0', '0', '0', '0', '8', '8', '0.00', '0.00', '0.00', '0.00', '1.00', '0.00', '0.00', '9', '9', '1.00', '0.00', '0.11', '0.00', '0.00', '0.00', '0.00', '0.00', 'normal.'], ['0', 'tcp', 'http', 'SF', '239', '486', '0', '0', '0', '0', '0', '1', '0', '0', '0', '0', '0', '0', '0', '0', '0', '0', '8', '8', '0.00', '0.00', '0.00', '0.00', '1.00', '0.00', '0.00', '19', '19', '1.00', '0.00', '0.05', '0.00', '0.00', '0.00', '0.00', '0.00', 'normal.']]\n",
            "<class 'pyspark.rdd.PipelinedRDD'>\n"
          ]
        }
      ]
    },
    {
      "cell_type": "markdown",
      "metadata": {
        "id": "nY3tARyYPdL4"
      },
      "source": [
        "Read the csv directly into a spark dataframe by defining a schema"
      ]
    },
    {
      "cell_type": "code",
      "metadata": {
        "id": "vhLhdHB2BP48",
        "colab": {
          "base_uri": "https://localhost:8080/"
        },
        "outputId": "205a9695-5e0f-497c-ca16-4f5b5f84a093"
      },
      "source": [
        "from pyspark.sql import Row\n",
        "\n",
        "parsed_rdd = csv_rdd.map(lambda r: Row(\n",
        "    duration=int(r[0]),\n",
        "    protocol_type=r[1],\n",
        "    service=r[2],\n",
        "    flag=r[3],\n",
        "    src_bytes=int(r[4]),\n",
        "    dst_bytes=int(r[5]),\n",
        "    wrong_fragment=int(r[7]),\n",
        "    urgent=int(r[8]),\n",
        "    hot=int(r[9]),\n",
        "    num_failed_logins=int(r[10]),\n",
        "    num_compromised=int(r[12]),\n",
        "    su_attempted=r[14],\n",
        "    num_root=int(r[15]),\n",
        "    num_file_creations=int(r[16]),\n",
        "    label=r[-1]\n",
        "    )\n",
        ")\n",
        "parsed_rdd.take(5)"
      ],
      "execution_count": null,
      "outputs": [
        {
          "output_type": "execute_result",
          "data": {
            "text/plain": [
              "[Row(duration=0, protocol_type='tcp', service='http', flag='SF', src_bytes=181, dst_bytes=5450, wrong_fragment=0, urgent=0, hot=0, num_failed_logins=0, num_compromised=0, su_attempted='0', num_root=0, num_file_creations=0, label='normal.'),\n",
              " Row(duration=0, protocol_type='tcp', service='http', flag='SF', src_bytes=239, dst_bytes=486, wrong_fragment=0, urgent=0, hot=0, num_failed_logins=0, num_compromised=0, su_attempted='0', num_root=0, num_file_creations=0, label='normal.'),\n",
              " Row(duration=0, protocol_type='tcp', service='http', flag='SF', src_bytes=235, dst_bytes=1337, wrong_fragment=0, urgent=0, hot=0, num_failed_logins=0, num_compromised=0, su_attempted='0', num_root=0, num_file_creations=0, label='normal.'),\n",
              " Row(duration=0, protocol_type='tcp', service='http', flag='SF', src_bytes=219, dst_bytes=1337, wrong_fragment=0, urgent=0, hot=0, num_failed_logins=0, num_compromised=0, su_attempted='0', num_root=0, num_file_creations=0, label='normal.'),\n",
              " Row(duration=0, protocol_type='tcp', service='http', flag='SF', src_bytes=217, dst_bytes=2032, wrong_fragment=0, urgent=0, hot=0, num_failed_logins=0, num_compromised=0, su_attempted='0', num_root=0, num_file_creations=0, label='normal.')]"
            ]
          },
          "metadata": {},
          "execution_count": 26
        }
      ]
    },
    {
      "cell_type": "markdown",
      "metadata": {
        "id": "-K8Dj77vPm9R"
      },
      "source": [
        "Convert the RDD to a dataframe"
      ]
    },
    {
      "cell_type": "code",
      "metadata": {
        "id": "vTZqz_CqBhRB",
        "colab": {
          "base_uri": "https://localhost:8080/"
        },
        "outputId": "1195436b-1709-47ad-a4bc-895462ef4249"
      },
      "source": [
        "df = spark.createDataFrame(parsed_rdd)\n",
        "df.show()"
      ],
      "execution_count": null,
      "outputs": [
        {
          "output_type": "stream",
          "name": "stdout",
          "text": [
            "+--------+-------------+-------+----+---------+---------+--------------+------+---+-----------------+---------------+------------+--------+------------------+-------+\n",
            "|duration|protocol_type|service|flag|src_bytes|dst_bytes|wrong_fragment|urgent|hot|num_failed_logins|num_compromised|su_attempted|num_root|num_file_creations|  label|\n",
            "+--------+-------------+-------+----+---------+---------+--------------+------+---+-----------------+---------------+------------+--------+------------------+-------+\n",
            "|       0|          tcp|   http|  SF|      181|     5450|             0|     0|  0|                0|              0|           0|       0|                 0|normal.|\n",
            "|       0|          tcp|   http|  SF|      239|      486|             0|     0|  0|                0|              0|           0|       0|                 0|normal.|\n",
            "|       0|          tcp|   http|  SF|      235|     1337|             0|     0|  0|                0|              0|           0|       0|                 0|normal.|\n",
            "|       0|          tcp|   http|  SF|      219|     1337|             0|     0|  0|                0|              0|           0|       0|                 0|normal.|\n",
            "|       0|          tcp|   http|  SF|      217|     2032|             0|     0|  0|                0|              0|           0|       0|                 0|normal.|\n",
            "|       0|          tcp|   http|  SF|      217|     2032|             0|     0|  0|                0|              0|           0|       0|                 0|normal.|\n",
            "|       0|          tcp|   http|  SF|      212|     1940|             0|     0|  0|                0|              0|           0|       0|                 0|normal.|\n",
            "|       0|          tcp|   http|  SF|      159|     4087|             0|     0|  0|                0|              0|           0|       0|                 0|normal.|\n",
            "|       0|          tcp|   http|  SF|      210|      151|             0|     0|  0|                0|              0|           0|       0|                 0|normal.|\n",
            "|       0|          tcp|   http|  SF|      212|      786|             0|     0|  1|                0|              0|           0|       0|                 0|normal.|\n",
            "|       0|          tcp|   http|  SF|      210|      624|             0|     0|  0|                0|              0|           0|       0|                 0|normal.|\n",
            "|       0|          tcp|   http|  SF|      177|     1985|             0|     0|  0|                0|              0|           0|       0|                 0|normal.|\n",
            "|       0|          tcp|   http|  SF|      222|      773|             0|     0|  0|                0|              0|           0|       0|                 0|normal.|\n",
            "|       0|          tcp|   http|  SF|      256|     1169|             0|     0|  0|                0|              0|           0|       0|                 0|normal.|\n",
            "|       0|          tcp|   http|  SF|      241|      259|             0|     0|  0|                0|              0|           0|       0|                 0|normal.|\n",
            "|       0|          tcp|   http|  SF|      260|     1837|             0|     0|  0|                0|              0|           0|       0|                 0|normal.|\n",
            "|       0|          tcp|   http|  SF|      241|      261|             0|     0|  0|                0|              0|           0|       0|                 0|normal.|\n",
            "|       0|          tcp|   http|  SF|      257|      818|             0|     0|  0|                0|              0|           0|       0|                 0|normal.|\n",
            "|       0|          tcp|   http|  SF|      233|      255|             0|     0|  0|                0|              0|           0|       0|                 0|normal.|\n",
            "|       0|          tcp|   http|  SF|      233|      504|             0|     0|  0|                0|              0|           0|       0|                 0|normal.|\n",
            "+--------+-------------+-------+----+---------+---------+--------------+------+---+-----------------+---------------+------------+--------+------------------+-------+\n",
            "only showing top 20 rows\n",
            "\n"
          ]
        }
      ]
    },
    {
      "cell_type": "code",
      "metadata": {
        "id": "uQU24SGs6YZS"
      },
      "source": [
        "from pyspark.sql import functions as f"
      ],
      "execution_count": null,
      "outputs": []
    },
    {
      "cell_type": "code",
      "metadata": {
        "id": "yNNA7WHlCD_u",
        "colab": {
          "base_uri": "https://localhost:8080/"
        },
        "outputId": "8f2aae0a-c970-48e1-9abb-165e438122e5"
      },
      "source": [
        "# register a temporary table to query against.\n",
        "df.registerTempTable('data')"
      ],
      "execution_count": null,
      "outputs": [
        {
          "output_type": "stream",
          "name": "stderr",
          "text": [
            "/content/spark-3.5.2-bin-hadoop3/python/pyspark/sql/dataframe.py:329: FutureWarning: Deprecated in 2.0, use createOrReplaceTempView instead.\n",
            "  warnings.warn(\"Deprecated in 2.0, use createOrReplaceTempView instead.\", FutureWarning)\n"
          ]
        }
      ]
    },
    {
      "cell_type": "markdown",
      "metadata": {
        "id": "p12ji90-PvFv"
      },
      "source": [
        "# Comparing SQL to API"
      ]
    },
    {
      "cell_type": "markdown",
      "metadata": {
        "id": "AB3QG86AIc9Q"
      },
      "source": [
        "---\n",
        "#0. Select columns"
      ]
    },
    {
      "cell_type": "code",
      "metadata": {
        "id": "QHM-LsliHwen"
      },
      "source": [
        "select = spark.sql(\"\"\"SELECT protocol_type, service\n",
        "                      FROM data\"\"\")"
      ],
      "execution_count": null,
      "outputs": []
    },
    {
      "cell_type": "code",
      "metadata": {
        "id": "V_ZSeIJQHw8b",
        "colab": {
          "base_uri": "https://localhost:8080/"
        },
        "outputId": "8c8e743b-f178-4c4d-98c0-0d8c4c148740"
      },
      "source": [
        "select.show(10)"
      ],
      "execution_count": null,
      "outputs": [
        {
          "output_type": "stream",
          "name": "stdout",
          "text": [
            "+-------------+-------+\n",
            "|protocol_type|service|\n",
            "+-------------+-------+\n",
            "|          tcp|   http|\n",
            "|          tcp|   http|\n",
            "|          tcp|   http|\n",
            "|          tcp|   http|\n",
            "|          tcp|   http|\n",
            "|          tcp|   http|\n",
            "|          tcp|   http|\n",
            "|          tcp|   http|\n",
            "|          tcp|   http|\n",
            "|          tcp|   http|\n",
            "+-------------+-------+\n",
            "only showing top 10 rows\n",
            "\n"
          ]
        }
      ]
    },
    {
      "cell_type": "code",
      "metadata": {
        "id": "wqO6_d1MHwzH"
      },
      "source": [
        "select_spark = df.select('protocol_type', 'service')"
      ],
      "execution_count": null,
      "outputs": []
    },
    {
      "cell_type": "code",
      "metadata": {
        "id": "DUftQKIHHwTl"
      },
      "source": [
        "select_spark.show(10)"
      ],
      "execution_count": null,
      "outputs": []
    },
    {
      "cell_type": "markdown",
      "metadata": {
        "id": "wgFosi_oJFJb"
      },
      "source": [
        "#### OR using a list also works"
      ]
    },
    {
      "cell_type": "code",
      "metadata": {
        "id": "QKNEqFSGJIkx",
        "colab": {
          "base_uri": "https://localhost:8080/"
        },
        "outputId": "deba18c3-18de-4a0f-f760-62fb6999caf0"
      },
      "source": [
        "select_spark = df.select(['protocol_type', 'service'])\n",
        "select_spark.show(10)"
      ],
      "execution_count": null,
      "outputs": [
        {
          "output_type": "stream",
          "name": "stdout",
          "text": [
            "+-------------+-------+\n",
            "|protocol_type|service|\n",
            "+-------------+-------+\n",
            "|          tcp|   http|\n",
            "|          tcp|   http|\n",
            "|          tcp|   http|\n",
            "|          tcp|   http|\n",
            "|          tcp|   http|\n",
            "|          tcp|   http|\n",
            "|          tcp|   http|\n",
            "|          tcp|   http|\n",
            "|          tcp|   http|\n",
            "|          tcp|   http|\n",
            "+-------------+-------+\n",
            "only showing top 10 rows\n",
            "\n"
          ]
        }
      ]
    },
    {
      "cell_type": "markdown",
      "metadata": {
        "id": "UexKUefVJSOQ"
      },
      "source": [
        "---\n",
        "# 1. select as alias"
      ]
    },
    {
      "cell_type": "code",
      "metadata": {
        "id": "k7j_LBFWJchg"
      },
      "source": [
        "alias = spark.sql(\"\"\"SELECT protocol_type,\n",
        "                            label as flag\n",
        "                     FROM data\n",
        "                  \"\"\")"
      ],
      "execution_count": null,
      "outputs": []
    },
    {
      "cell_type": "code",
      "metadata": {
        "id": "VA5FWkOyJczb"
      },
      "source": [
        "alias.show()"
      ],
      "execution_count": null,
      "outputs": []
    },
    {
      "cell_type": "code",
      "metadata": {
        "id": "ibkdCi1xJcmV"
      },
      "source": [
        "alias_spark = df.select('protocol_type', 'label').withColumnRenamed('label', 'flag')"
      ],
      "execution_count": null,
      "outputs": []
    },
    {
      "cell_type": "code",
      "metadata": {
        "id": "ysR___SFJceU",
        "colab": {
          "base_uri": "https://localhost:8080/"
        },
        "outputId": "5720de14-28c6-4f10-be59-39185ab42e5a"
      },
      "source": [
        "alias_spark.show()"
      ],
      "execution_count": null,
      "outputs": [
        {
          "output_type": "stream",
          "name": "stdout",
          "text": [
            "+-------------+-------+\n",
            "|protocol_type|   flag|\n",
            "+-------------+-------+\n",
            "|          tcp|normal.|\n",
            "|          tcp|normal.|\n",
            "|          tcp|normal.|\n",
            "|          tcp|normal.|\n",
            "|          tcp|normal.|\n",
            "|          tcp|normal.|\n",
            "|          tcp|normal.|\n",
            "|          tcp|normal.|\n",
            "|          tcp|normal.|\n",
            "|          tcp|normal.|\n",
            "|          tcp|normal.|\n",
            "|          tcp|normal.|\n",
            "|          tcp|normal.|\n",
            "|          tcp|normal.|\n",
            "|          tcp|normal.|\n",
            "|          tcp|normal.|\n",
            "|          tcp|normal.|\n",
            "|          tcp|normal.|\n",
            "|          tcp|normal.|\n",
            "|          tcp|normal.|\n",
            "+-------------+-------+\n",
            "only showing top 20 rows\n",
            "\n"
          ]
        }
      ]
    },
    {
      "cell_type": "markdown",
      "metadata": {
        "id": "_VkTVQ5VKZ5s"
      },
      "source": [
        "#### OR using dataframe column-objects with .alias"
      ]
    },
    {
      "cell_type": "code",
      "metadata": {
        "id": "Rd7lAhSmKRAX"
      },
      "source": [
        "alias_spark = df.select(df.protocol_type, df.label.alias('flag'))\n",
        "alias_spark.show(10)"
      ],
      "execution_count": null,
      "outputs": []
    },
    {
      "cell_type": "markdown",
      "metadata": {
        "id": "d8TdxqQz_DXR"
      },
      "source": [
        "# 2. group by, count, order by"
      ]
    },
    {
      "cell_type": "code",
      "metadata": {
        "id": "q4le_EnCCWY0"
      },
      "source": [
        "protocols = spark.sql(\"\"\"\n",
        "      SELECT protocol_type, count(*) as freq\n",
        "      FROM data\n",
        "      GROUP BY protocol_type\n",
        "      ORDER BY 2 DESC\n",
        "                           \"\"\")\n",
        "protocols.show()"
      ],
      "execution_count": null,
      "outputs": []
    },
    {
      "cell_type": "code",
      "metadata": {
        "id": "Bmp9bXaRCLjO"
      },
      "source": [
        "df.groupBy('protocol_type').count().orderBy('count', ascending=False).show()"
      ],
      "execution_count": null,
      "outputs": []
    },
    {
      "cell_type": "code",
      "metadata": {
        "id": "e8T7v7-hCueD"
      },
      "source": [
        "df.count()"
      ],
      "execution_count": null,
      "outputs": []
    },
    {
      "cell_type": "markdown",
      "metadata": {
        "id": "06jXlwmU_O0c"
      },
      "source": [
        "---\n",
        "# 3. group by, count, order by (using agg)"
      ]
    },
    {
      "cell_type": "code",
      "metadata": {
        "id": "MYHRoj36EV6B"
      },
      "source": [
        "labels = spark.sql(\"\"\"\n",
        "  SELECT label, count(*) as freq\n",
        "  FROM data\n",
        "  GROUP BY label\n",
        "  ORDER BY 2 DESC\n",
        "\"\"\")"
      ],
      "execution_count": null,
      "outputs": []
    },
    {
      "cell_type": "code",
      "metadata": {
        "id": "pmZtqo1V-Ccq"
      },
      "source": [
        "labels.show()"
      ],
      "execution_count": null,
      "outputs": []
    },
    {
      "cell_type": "code",
      "metadata": {
        "id": "isahL3zB-F9p"
      },
      "source": [
        "labels_spark = df.groupBy('label')\\\n",
        "                .agg(f.count(f.lit(1))\\\n",
        "                    .alias('freq'))\\\n",
        "                    .orderBy('freq', ascending=False)"
      ],
      "execution_count": null,
      "outputs": []
    },
    {
      "cell_type": "code",
      "metadata": {
        "id": "iWuxd0wu-Fz9"
      },
      "source": [
        "labels_spark.show()"
      ],
      "execution_count": null,
      "outputs": []
    },
    {
      "cell_type": "markdown",
      "metadata": {
        "id": "9gCGSzGr-Azf"
      },
      "source": [
        "---\n",
        "#4. case, group by, count, order by"
      ]
    },
    {
      "cell_type": "code",
      "metadata": {
        "id": "Gyozq1CnEbBA"
      },
      "source": [
        "attack_protocol = spark.sql(\"\"\"\n",
        "                           SELECT\n",
        "                             protocol_type,\n",
        "                             CASE label\n",
        "                               WHEN 'normal.' THEN 'no attack'\n",
        "                               ELSE 'attack'\n",
        "                             END AS state,\n",
        "                             COUNT(*) as freq\n",
        "                           FROM data\n",
        "                           GROUP BY protocol_type, state\n",
        "                           ORDER BY 3 DESC\n",
        "                           \"\"\")"
      ],
      "execution_count": null,
      "outputs": []
    },
    {
      "cell_type": "code",
      "metadata": {
        "id": "Tjg6bbh7EwrH"
      },
      "source": [
        "attack_protocol.show()"
      ],
      "execution_count": null,
      "outputs": []
    },
    {
      "cell_type": "code",
      "metadata": {
        "id": "qTAEnJp-XDlw"
      },
      "source": [
        "att_prot_spark = df.withColumn('state', f.when(df.label=='normal.', 'no attack').otherwise('attack'))\\\n",
        "                  .groupBy('protocol_type', 'state')\\\n",
        "                  .agg(f.count(f.lit(1)).alias('freq'))\\\n",
        "                  .orderBy('freq', ascending=False)\n"
      ],
      "execution_count": null,
      "outputs": []
    },
    {
      "cell_type": "code",
      "metadata": {
        "id": "AinIOikp6DB7"
      },
      "source": [
        "att_prot_spark.show()"
      ],
      "execution_count": null,
      "outputs": []
    },
    {
      "cell_type": "markdown",
      "metadata": {
        "id": "QvLHycsW_u4J"
      },
      "source": [
        "---\n",
        "#5. group by, aggregations"
      ]
    },
    {
      "cell_type": "code",
      "metadata": {
        "id": "O1GPRBt47ODq"
      },
      "source": [
        "attack_stats = spark.sql(\"\"\"\n",
        "                          SELECT\n",
        "                            protocol_type,\n",
        "                            CASE label\n",
        "                              WHEN 'normal.' THEN 'no attack'\n",
        "                              ELSE 'attack'\n",
        "                            END AS state,\n",
        "                            COUNT(*) as total_freq,\n",
        "                            ROUND(AVG(src_bytes), 2) as mean_src_bytes,\n",
        "                            ROUND(AVG(dst_bytes), 2) as mean_dst_bytes,\n",
        "                            ROUND(AVG(duration), 2) as mean_duration,\n",
        "                            SUM(num_failed_logins) as total_failed_logins,\n",
        "                            SUM(num_compromised) as total_compromised,\n",
        "                            SUM(num_file_creations) as total_file_creations,\n",
        "                            SUM(su_attempted) as total_root_attempts,\n",
        "                            SUM(num_root) as total_root_acceses\n",
        "                          FROM data\n",
        "                          GROUP BY protocol_type, state\n",
        "                          ORDER BY 3 DESC\n",
        "                          \"\"\")"
      ],
      "execution_count": null,
      "outputs": []
    },
    {
      "cell_type": "code",
      "metadata": {
        "id": "KpzYvR-Y9vaw"
      },
      "source": [
        "attack_stats.show()"
      ],
      "execution_count": null,
      "outputs": []
    },
    {
      "cell_type": "code",
      "metadata": {
        "id": "Ig3lTdSb90Ey"
      },
      "source": [
        "attack_stats_spark = df.withColumn('state', f.when(df.label=='normal.', 'no attack').otherwise('attack'))\\\n",
        ".groupBy('protocol_type', 'state')\\\n",
        ".agg(f.count(f.lit(1)).alias('total_freq'),\n",
        "     f.avg('src_bytes').alias('mean_src_bytes'),\n",
        "     f.avg('dst_bytes').alias('mean_dst_bytes'),\n",
        "     f.avg('duration').alias('mean_duration'),\n",
        "     f.sum('num_failed_logins').alias('total_failed_logins'),\n",
        "     f.sum('num_compromised').alias('total_compromised'),\n",
        "     f.sum('num_file_creations').alias('total_file_creations'),\n",
        "     f.sum('su_attempted').alias('total_root_attempts'),\n",
        "     f.sum('num_root').alias('total_root_acceses'),\n",
        "     )\\\n",
        "     .orderBy('total_freq', ascending=False)"
      ],
      "execution_count": null,
      "outputs": []
    },
    {
      "cell_type": "code",
      "metadata": {
        "id": "cGJt0IrxAIXh"
      },
      "source": [
        "attack_stats_spark.show()"
      ],
      "execution_count": null,
      "outputs": []
    },
    {
      "cell_type": "markdown",
      "metadata": {
        "id": "baMxExBFEwNy"
      },
      "source": [
        "---\n",
        "# 6. filter, group by"
      ]
    },
    {
      "cell_type": "code",
      "metadata": {
        "id": "EkagtnddEvgs"
      },
      "source": [
        "tcp_attack_stats = spark.sql(\"\"\"\n",
        "                              SELECT\n",
        "                                service,\n",
        "                                label as attack_type,\n",
        "                                COUNT(*) as total_freq,\n",
        "                                ROUND(AVG(duration), 2) as mean_duration,\n",
        "                                SUM(num_failed_logins) as total_failed_logins,\n",
        "                                SUM(num_file_creations) as total_file_creations,\n",
        "                                SUM(su_attempted) as total_root_attempts,\n",
        "                                SUM(num_root) as total_root_acceses\n",
        "                              FROM data\n",
        "                              WHERE protocol_type = 'tcp'\n",
        "                              AND label != 'normal.'\n",
        "                              GROUP BY service, attack_type\n",
        "                              ORDER BY total_freq DESC\n",
        "                              \"\"\")"
      ],
      "execution_count": null,
      "outputs": []
    },
    {
      "cell_type": "code",
      "metadata": {
        "id": "8LPlGI18AlO2"
      },
      "source": [
        "tcp_attack_stats.show()"
      ],
      "execution_count": null,
      "outputs": []
    },
    {
      "cell_type": "code",
      "metadata": {
        "id": "gV9GkI6YE4Y9"
      },
      "source": [
        "tcp_attack_stats_spark = df.filter((df.protocol_type  == \"tcp\") & (df.label  != \"normal.\")).groupBy('service', df.label.alias('attack_type'))\\\n",
        ".agg(f.count(f.lit(1)).alias('total_freq'),\n",
        "     f.avg('duration').alias('mean_duration'),\n",
        "     f.sum('num_failed_logins').alias('total_failed_logins'),\n",
        "     f.sum('num_file_creations').alias('total_file_creations'),\n",
        "     f.sum('su_attempted').alias('total_root_attempts'),\n",
        "     f.sum('num_root').alias('total_root_acceses'))\\\n",
        ".orderBy('total_freq', ascending=False)"
      ],
      "execution_count": null,
      "outputs": []
    },
    {
      "cell_type": "code",
      "metadata": {
        "id": "ksvTWt7FFspS"
      },
      "source": [
        "tcp_attack_stats_spark.show()"
      ],
      "execution_count": null,
      "outputs": []
    },
    {
      "cell_type": "markdown",
      "metadata": {
        "id": "iTCIdHu5NGK2"
      },
      "source": [
        "---\n",
        "#7. sub-queries"
      ]
    },
    {
      "cell_type": "code",
      "metadata": {
        "id": "7lvC5LyrLOyK"
      },
      "source": [
        "tcp_attack_stats = spark.sql(\"\"\"\n",
        "                              SELECT\n",
        "                                t.service,\n",
        "                                t.attack_type,\n",
        "                                t.total_freq\n",
        "                              FROM\n",
        "                              (SELECT\n",
        "                                service,\n",
        "                                label as attack_type,\n",
        "                                COUNT(*) as total_freq,\n",
        "                                ROUND(AVG(duration), 2) as mean_duration,\n",
        "                                SUM(num_failed_logins) as total_failed_logins,\n",
        "                                SUM(num_file_creations) as total_file_creations,\n",
        "                                SUM(su_attempted) as total_root_attempts,\n",
        "                                SUM(num_root) as total_root_acceses\n",
        "                              FROM data\n",
        "                              WHERE protocol_type = 'tcp'\n",
        "                              AND label != 'normal.'\n",
        "                              GROUP BY service, attack_type\n",
        "                              ORDER BY total_freq DESC) as t\n",
        "                                WHERE t.mean_duration > 0\n",
        "                              \"\"\")"
      ],
      "execution_count": null,
      "outputs": []
    },
    {
      "cell_type": "code",
      "metadata": {
        "id": "Df0x3JcVNqHY"
      },
      "source": [
        "tcp_attack_stats.show()"
      ],
      "execution_count": null,
      "outputs": []
    },
    {
      "cell_type": "code",
      "metadata": {
        "id": "3MBu9zi4NuRH"
      },
      "source": [
        "tcp_attack_stats_spark = df.filter((df.protocol_type  == \"tcp\") & (df.label  != \"normal.\"))\\\n",
        ".groupBy('service', df.label.alias('attack_type'))\\\n",
        ".agg(f.count(f.lit(1)).alias('total_freq'),\n",
        "     f.avg('duration').alias('mean_duration'),\n",
        "     f.sum('num_failed_logins').alias('total_failed_logins'),\n",
        "     f.sum('num_file_creations').alias('total_file_creations'),\n",
        "     f.sum('su_attempted').alias('total_root_attempts'),\n",
        "     f.sum('num_root').alias('total_root_acceses'))\\\n",
        ".orderBy('total_freq', ascending=False)\\\n",
        ".filter(f.col('mean_duration') > 0)\\\n",
        ".select('service', 'attack_type', 'total_freq')"
      ],
      "execution_count": null,
      "outputs": []
    },
    {
      "cell_type": "code",
      "metadata": {
        "id": "5q-gcTdgOWJX"
      },
      "source": [
        "tcp_attack_stats_spark.show()"
      ],
      "execution_count": null,
      "outputs": []
    },
    {
      "cell_type": "code",
      "source": [],
      "metadata": {
        "id": "YS3-EGdX4NOf"
      },
      "execution_count": null,
      "outputs": []
    }
  ]
}